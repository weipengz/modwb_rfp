{
 "cells": [
  {
   "cell_type": "code",
   "execution_count": 1,
   "metadata": {},
   "outputs": [],
   "source": []
  },
  {
   "attachments": {},
   "cell_type": "markdown",
   "metadata": {},
   "source": [
    "#### This is a notebook to simulate eoe10 cell on lionrock for performing RF fingerprinting using multiple tap RNN model"
   ]
  },
  {
   "attachments": {},
   "cell_type": "markdown",
   "metadata": {},
   "source": [
    "1. build physical models for the PIC"
   ]
  },
  {
   "cell_type": "code",
   "execution_count": 1,
   "metadata": {},
   "outputs": [
    {
     "data": {
      "text/plain": [
       "<Figure size 2500x500 with 10 Axes>"
      ]
     },
     "metadata": {},
     "output_type": "display_data"
    },
    {
     "data": {
      "text/plain": [
       "<Figure size 2500x500 with 1 Axes>"
      ]
     },
     "metadata": {},
     "output_type": "display_data"
    }
   ],
   "source": [
    "## readin pretrained PIC data\n",
    "\n",
    "import csv\n",
    "import matplotlib.pyplot as plt\n",
    "import numpy as np\n",
    "\n",
    "def read_spec(filename):\n",
    "\n",
    "    with open(filename, mode ='r')as file:\n",
    "        csvFile = csv.reader(file)\n",
    "        lines = []\n",
    "        for line in csvFile:\n",
    "            lines.append(line)\n",
    "        freq = []    \n",
    "        pwr = []\n",
    "        for line in lines[13:]:\n",
    "            freq.append(float(line[0]))\n",
    "            pwr.append(float(line[1]))\n",
    "        freq = np.array(freq)\n",
    "        pwr = np.array(pwr)\n",
    "    return freq, pwr\n",
    "\n",
    "from scipy.signal import find_peaks\n",
    "import numpy as np\n",
    "\n",
    "fn = \"lionrock_c12_24.csv\"\n",
    "freq, pwr = read_spec(fn)\n",
    "peaks, _ = find_peaks(-pwr,height=-np.min(pwr)-10, width=10)\n",
    "\n",
    "oft = 22\n",
    "pf = freq[peaks]+oft\n",
    "pf_r = pf-np.round(pf/50)*50\n",
    "fig, axs = plt.subplots(2,5,figsize=(25,5))\n",
    "ym = (-15,15)\n",
    "for i in range(5):\n",
    "    axs[0][i].plot(pf_r[i::10], '-o')\n",
    "    axs[0][i].set_ylim(ym)\n",
    "for i in range(5):\n",
    "    axs[1][i].plot(pf_r[i+5::10], '-o')\n",
    "    axs[1][i].set_ylim(ym)\n",
    "plt.show()\n",
    "\n",
    "idxs = [2,2,2,2,2,\n",
    "        2,2,2,1,1]\n",
    "plt.figure(figsize=(25,5))\n",
    "plt.plot(freq, pwr)\n",
    "pks = []\n",
    "errs = []\n",
    "for i in range(10):\n",
    "    pkss = peaks[i::10]\n",
    "    idx = idxs[i]\n",
    "    pks.append(pkss[idx])\n",
    "    pk = pkss[idx]\n",
    "    plt.text(freq[pk], pwr[pk]-1,'{:.0f}'.format(i+1),fontsize=20, horizontalalignment='center')\n",
    "    plt.text(freq[pk], pwr[pk]-2,'{:.0f}'.format(freq[pk]+oft),fontsize=10, horizontalalignment='center')\n",
    "    error = (freq[pk]+oft)-round((freq[pk]+oft)/50)*50\n",
    "    errs.append(error)\n",
    "    plt.text(freq[pk], pwr[pk]-3,'{:.0f}'.format(error),fontsize=10, horizontalalignment='center')\n",
    "plt.plot(freq[pks], pwr[pks], \"o\")\n",
    "plt.vlines([193700,195950],np.min(pwr),np.max(pwr),colors='tab:red')\n",
    "errs = np.array(errs)\n",
    "plt.title(fn+\", offset={:}, error={:.2f}, {:.2f}, {:.2f}\".format(oft,np.mean(errs),np.max(errs),np.min(errs)))\n",
    "plt.show()"
   ]
  },
  {
   "cell_type": "code",
   "execution_count": null,
   "metadata": {},
   "outputs": [],
   "source": []
  },
  {
   "cell_type": "code",
   "execution_count": null,
   "metadata": {},
   "outputs": [],
   "source": []
  },
  {
   "cell_type": "code",
   "execution_count": null,
   "metadata": {},
   "outputs": [],
   "source": [
    "import torch\n",
    "import numpy as np\n",
    "import matplotlib.pyplot as plt\n",
    "%config InlineBackend.figure_format = 'retina'\n",
    "from os.path import dirname, join as pjoin\n",
    "import scipy.io as sio"
   ]
  },
  {
   "cell_type": "markdown",
   "metadata": {},
   "source": [
    "## Load Input Data"
   ]
  },
  {
   "cell_type": "code",
   "execution_count": 2,
   "metadata": {},
   "outputs": [
    {
     "name": "stdout",
     "output_type": "stream",
     "text": [
      "/mnt/hddraid1/ResidualData\n"
     ]
    }
   ],
   "source": [
    "# if you would like to preprocess the origianl .mat data, then preprocessing = True \n",
    "preprocessing = True\n",
    "if preprocessing:\n",
    "    data_dir = '/mnt/hddraid1/ResidualData'\n",
    "    print(data_dir)\n",
    "    device_mat_frame = np.empty((30,), dtype=object)\n",
    "    for i in range(0,30):\n",
    "        device_mat_frame[i] = pjoin(data_dir, 'Residuals_Device{}.mat'.format(int(i+11)))"
   ]
  },
  {
   "cell_type": "code",
   "execution_count": 3,
   "metadata": {},
   "outputs": [
    {
     "name": "stderr",
     "output_type": "stream",
     "text": [
      "100%|██████████| 30/30 [02:46<00:00,  6.11s/it]\n"
     ]
    }
   ],
   "source": [
    "from tqdm import tqdm\n",
    "if preprocessing:\n",
    "    device_mat_contents = np.empty((30,), dtype=object)\n",
    "    for i in tqdm(range(0,30)):\n",
    "        device_mat_contents[i] = sio.loadmat(device_mat_frame[i])"
   ]
  },
  {
   "cell_type": "markdown",
   "metadata": {},
   "source": [
    "## Define training and test dataset"
   ]
  },
  {
   "cell_type": "code",
   "execution_count": 4,
   "metadata": {},
   "outputs": [],
   "source": [
    "import torch.nn as nn\n",
    "import torch.nn.functional as F\n",
    "import torch.utils.data as data\n",
    "from scipy import signal\n",
    "def packet_data_from_mat_to_torch_dataloader(original_mat_data, device_num=30, part_num=16, batch_size=100, whole_packet=True):\n",
    "    device_number = device_num\n",
    "    part_number = part_num\n",
    "    total_train_device_label = []\n",
    "    total_dev_device_label = []\n",
    "    total_test_device_label = []\n",
    "    train_filtered_I = []\n",
    "    train_filtered_Q = []\n",
    "    test_filtered_I = []\n",
    "    test_filtered_Q = []\n",
    "    dev_filtered_I = []\n",
    "    dev_filtered_Q = []\n",
    "    fc = 2\n",
    "    fs = 16\n",
    "    b, a = signal.butter(4, fc/(fs/2))\n",
    "\n",
    "    for device_idx in tqdm(range(device_number), leave=True, position=0):\n",
    "        for part_idx in range(part_number):\n",
    "            transmission_number = original_mat_data[device_idx]['residuals'][part_idx][0].shape[0]\n",
    "            for i in (range(transmission_number)):\n",
    "                if whole_packet:\n",
    "                    if (i < transmission_number*0.80):\n",
    "                        total_train_device_label.append(np.array([device_idx]))\n",
    "                        train_filtered_I.append(signal.filtfilt(b,a, np.real(original_mat_data[device_idx]['residuals'][part_idx][0][i].reshape(-1,))))\n",
    "                        train_filtered_Q.append(signal.filtfilt(b,a, np.imag(original_mat_data[device_idx]['residuals'][part_idx][0][i].reshape(-1,))))\n",
    "                    elif (i < transmission_number*0.90):\n",
    "                        total_dev_device_label.append(np.array([device_idx]))\n",
    "                        dev_filtered_I.append(signal.filtfilt(b,a, np.real(original_mat_data[device_idx]['residuals'][part_idx][0][i].reshape(-1,))))\n",
    "                        dev_filtered_Q.append(signal.filtfilt(b,a, np.imag(original_mat_data[device_idx]['residuals'][part_idx][0][i].reshape(-1,))))\n",
    "                    else:\n",
    "                        total_test_device_label.append(np.array([device_idx]))\n",
    "                        test_filtered_I.append(signal.filtfilt(b,a, np.real(original_mat_data[device_idx]['residuals'][part_idx][0][i].reshape(-1,))))\n",
    "                        test_filtered_Q.append(signal.filtfilt(b,a, np.imag(original_mat_data[device_idx]['residuals'][part_idx][0][i].reshape(-1,))))                                        \n",
    "                else:\n",
    "                    for j in range(17):\n",
    "                        if (i < transmission_number*0.80):\n",
    "                            total_train_device_label.append(np.array([device_idx]))\n",
    "                            train_filtered_I.append(signal.filtfilt(b,a, np.real(original_mat_data[device_idx]['residuals'][part_idx][0][i][j])))\n",
    "                            train_filtered_Q.append(signal.filtfilt(b,a, np.imag(original_mat_data[device_idx]['residuals'][part_idx][0][i][j])))\n",
    "                        elif (i < transmission_number*0.90):\n",
    "                            total_dev_device_label.append(np.array([device_idx]))\n",
    "                            dev_filtered_I.append(signal.filtfilt(b,a, np.real(original_mat_data[device_idx]['residuals'][part_idx][0][i][j])))\n",
    "                            dev_filtered_Q.append(signal.filtfilt(b,a, np.imag(original_mat_data[device_idx]['residuals'][part_idx][0][i][j])))\n",
    "                        else:\n",
    "                            total_test_device_label.append(np.array([device_idx]))\n",
    "                            test_filtered_I.append(signal.filtfilt(b,a, np.real(original_mat_data[device_idx]['residuals'][part_idx][0][i][j])))\n",
    "                            test_filtered_Q.append(signal.filtfilt(b,a, np.imag(original_mat_data[device_idx]['residuals'][part_idx][0][i][j])))                                        \n",
    "\n",
    "\n",
    "    train_filter_data = []\n",
    "    train_labels = total_train_device_label\n",
    "\n",
    "    test_filter_data = []\n",
    "    test_labels = total_test_device_label\n",
    "\n",
    "    dev_filter_data = []\n",
    "    dev_labels = total_dev_device_label\n",
    "    length = len(train_filtered_I)                                      \n",
    "    for j in tqdm(range(length), leave=True, position=0):\n",
    "        train_filter_IQ = np.vstack((train_filtered_I[j], train_filtered_Q[j])).T # np.array([[train_filtered_I[j][k], train_filtered_Q[j][k]] for k in range(len(train_filtered_Q[j]))])\n",
    "        train_filter_data.append([train_filter_IQ, train_labels[j]])\n",
    "        if j < len(test_filtered_I):\n",
    "            test_filter_IQ = np.vstack((test_filtered_I[j], test_filtered_Q[j])).T # np.array([[test_filtered_I[j][k], test_filtered_Q[j][k]] for k in range(len(test_filtered_Q[j]))])\n",
    "#             del test_filtered_I[j], test_filtered_Q[j]\n",
    "            test_filter_data.append([test_filter_IQ, test_labels[j]])\n",
    "        if j < len(dev_filtered_I):\n",
    "            dev_filter_IQ = np.vstack((dev_filtered_I[j], dev_filtered_Q[j])).T # np.array([[dev_filtered_I[j][k], dev_filtered_Q[j][k]] for k in range(len(dev_filtered_Q[j]))])\n",
    "#             del dev_filtered_I[j], dev_filtered_Q[j]\n",
    "            dev_filter_data.append([dev_filter_IQ, dev_labels[j]])\n",
    "    # np.save('train_data',train_filter_data)\n",
    "    # np.save('dev_data',dev_filter_data)\n",
    "    # np.save('test_data',test_filter_data)\n",
    "    trainloader_filter = data.DataLoader(train_filter_data, shuffle=True, batch_size=batch_size)\n",
    "    del train_filter_data\n",
    "    devloader_filter = data.DataLoader(dev_filter_data, shuffle=False, batch_size=batch_size)\n",
    "    del dev_filter_data\n",
    "    testloader_filter = data.DataLoader(test_filter_data, shuffle=False, batch_size=batch_size)\n",
    "    del test_filter_data\n",
    "    return trainloader_filter, devloader_filter, testloader_filter"
   ]
  },
  {
   "cell_type": "markdown",
   "metadata": {},
   "source": [
    "## Define torch dataloader "
   ]
  },
  {
   "cell_type": "code",
   "execution_count": 5,
   "metadata": {},
   "outputs": [
    {
     "name": "stderr",
     "output_type": "stream",
     "text": [
      "100%|██████████| 30/30 [00:27<00:00,  1.08it/s]\n",
      "100%|██████████| 26939/26939 [00:03<00:00, 6909.83it/s]\n"
     ]
    }
   ],
   "source": [
    "whole_packet_flag = True # using a whole packet as data unit or not\n",
    "bs = 100 # batch size\n",
    "trainloader_filter, devloader_filter, testloader_filter = packet_data_from_mat_to_torch_dataloader(device_mat_contents, device_num=30, part_num=5, batch_size=bs, whole_packet=whole_packet_flag)"
   ]
  },
  {
   "cell_type": "code",
   "execution_count": 17,
   "metadata": {},
   "outputs": [
    {
     "data": {
      "text/plain": [
       "2700"
      ]
     },
     "execution_count": 17,
     "metadata": {},
     "output_type": "execute_result"
    }
   ],
   "source": [
    "# data = next(iter(trainloader_filter))\n",
    "# np.shape(data[0])\n",
    "len(trainloader_filter.dataset)"
   ]
  },
  {
   "cell_type": "code",
   "execution_count": 18,
   "metadata": {},
   "outputs": [],
   "source": [
    "# trainloader_filter = torch.load('dataloader/train_dataloader.pth')\n",
    "# testloader_filter = torch.load('dataloader/test_dataloader.pth')\n",
    "# devloader_filter = torch.load('dataloader/dev_dataloader.pth')"
   ]
  },
  {
   "cell_type": "markdown",
   "metadata": {},
   "source": [
    "## Train with noise using CTRNN-CNN model"
   ]
  },
  {
   "cell_type": "code",
   "execution_count": 20,
   "metadata": {},
   "outputs": [],
   "source": [
    "def photonic_act(x): #experimentally measured photonic activation function\n",
    "    denom = torch.mul(x,x) + torch.mul(0.3+0.25*x, 0.3+0.25*x) # torch.div(0.3, x) + 0.25\n",
    "    out = torch.div(torch.mul(x,x), denom)\n",
    "#     denom = torch.mul(denom, denom) + 1.0\n",
    "    return out\n",
    "\n",
    "class CTRNN(nn.Module):\n",
    "    \"\"\"Continuous-time RNN.\n",
    "\n",
    "    Args:\n",
    "        input_size: Number of input neurons\n",
    "        hidden_size: Number of hidden neurons\n",
    "\n",
    "    Inputs:\n",
    "        input: (seq_len, batch, input_size), network input\n",
    "        hidden: (batch, hidden_size), initial hidden activity\n",
    "    \"\"\"\n",
    "\n",
    "    def __init__(self, input_size, hidden_size, dt=None, **kwargs):\n",
    "        super().__init__()\n",
    "        self.input_size = input_size\n",
    "        self.hidden_size = hidden_size\n",
    "        self.tau = 10 # nn.Parameter(torch.linspace(10,12,hidden_size), requires_grad=False)\n",
    "        if dt is None:\n",
    "            alpha = 1\n",
    "        else:\n",
    "            alpha = dt / self.tau\n",
    "        self.alpha = alpha\n",
    "        self.oneminusalpha = 1 - alpha\n",
    "\n",
    "        self.input2h = nn.Linear(input_size, hidden_size, bias=True)\n",
    "        self.h2h = nn.Linear(hidden_size, hidden_size, bias=True)\n",
    "\n",
    "    def init_hidden(self, input_shape):\n",
    "        batch_size = input_shape[1]\n",
    "        return torch.zeros(batch_size, self.hidden_size)\n",
    "\n",
    "    def recurrence(self, input, hidden):\n",
    "        \"\"\"Recurrence helper.\"\"\"\n",
    "        pre_activation = self.input2h(input) + self.h2h(photonic_act(hidden))\n",
    "        h_new = hidden * self.oneminusalpha +  self.alpha * (pre_activation)\n",
    "        return h_new\n",
    "\n",
    "    def forward(self, input, hidden=None):\n",
    "        \"\"\"Propogate input through the network.\"\"\"\n",
    "        if hidden is None:\n",
    "            hidden = self.init_hidden(input.shape).to(input.device)\n",
    "\n",
    "        output = []\n",
    "        steps = range(input.size(0))\n",
    "        for i in steps:\n",
    "            hidden = self.recurrence(input[i], hidden)\n",
    "            output.append(photonic_act(hidden))\n",
    "\n",
    "        output = torch.stack(output, dim=0)\n",
    "        return output, hidden\n",
    "    \n",
    "class RNNNet(nn.Module):\n",
    "    \"\"\"Recurrent network model.\n",
    "\n",
    "    Args:\n",
    "        input_size: int, input size\n",
    "        hidden_size: int, hidden size\n",
    "        output_size: int, output size\n",
    "        rnn: str, type of RNN, lstm, rnn, ctrnn, or eirnn\n",
    "    \"\"\"\n",
    "    def __init__(self, input_size, hidden_size, **kwargs):\n",
    "        super().__init__()\n",
    "\n",
    "        # Continuous time RNN\n",
    "#         self.rnn = nn.LSTM(input_size, hidden_size, batch_first=False, **kwargs)\n",
    "        self.rnn = CTRNN(input_size, hidden_size, **kwargs)\n",
    "        self.conv0 = nn.Conv1d(in_channels = hidden_size, out_channels = 16, kernel_size=5, stride=1)#.to(device)\n",
    "        torch.nn.init.xavier_uniform_(self.conv0.weight)#.to(device) # v0 (but no maxpool) v1 out_channels= 128, v2 64, v3 16, v4 4 and not using conv1\n",
    "        self.conv1 = nn.Conv1d(in_channels = 16, out_channels = 16, kernel_size=3, stride=1)#.to(device)\n",
    "        torch.nn.init.xavier_uniform_(self.conv1.weight)#.to(device)\n",
    "        self.fc2 = nn.Linear(in_features= 96, out_features=30)\n",
    "        torch.nn.init.xavier_uniform_(self.fc2.weight)\n",
    "        \n",
    "    def forward(self, x):\n",
    "        out = x * 625 #/ torch.std(x, dim=2).unsqueeze(2) # * 625\n",
    "        out = out.permute(1,0,2)\n",
    "        \n",
    "        rnn_activity, _ = self.rnn(out) # bs, seq_len, hidden_dim (100, 17, hd)\n",
    "        out = rnn_activity.permute(1,2,0)\n",
    "        \n",
    "        out = self.conv0(out)\n",
    "        out = F.celu(out)\n",
    "        out = nn.MaxPool1d(2)(out)\n",
    "        out = self.conv1(out)\n",
    "        out = F.celu(out)\n",
    "        out = nn.MaxPool1d(2)(out)\n",
    "                \n",
    "        out = out.reshape(out.size(0),-1)#out.permute(0,2,1)\n",
    "        out = self.fc2(out)\n",
    "        out = F.log_softmax(out, dim=1)\n",
    "\n",
    "        return out, rnn_activity"
   ]
  },
  {
   "cell_type": "code",
   "execution_count": 21,
   "metadata": {},
   "outputs": [
    {
     "name": "stdout",
     "output_type": "stream",
     "text": [
      "torch.Size([1700, 32, 64])\n",
      "torch.Size([1700, 30]) torch.Size([32, 1700, 16])\n"
     ]
    }
   ],
   "source": [
    "hidden_size = 16\n",
    "input_size = 64\n",
    "output_size = 32\n",
    "num_sec = 17\n",
    "length = int(2048/input_size)\n",
    "sec_len = 1024\n",
    "net = RNNNet(input_size=64, hidden_size=hidden_size, dt=5)\n",
    "data, label = next(iter(trainloader_filter))\n",
    "data = data[:,0:sec_len*num_sec,:].float()\n",
    "data = data.permute(0,2,1).reshape(data.size(0),2,num_sec,-1).permute(0,2,1,3)#.reshape(data.size(0),num_sec,-1)\n",
    "data = data.reshape(data.size(0), num_sec, 2, 32, 32).permute(0,1,2,4,3).reshape(data.size(0)*num_sec, 64, 32).permute(0,2,1)\n",
    "            \n",
    "print(data.shape)\n",
    "output, _ = net(data)\n",
    "print(output.shape, _.shape)"
   ]
  },
  {
   "cell_type": "code",
   "execution_count": 9,
   "metadata": {},
   "outputs": [],
   "source": [
    "def train_noise(model, device, train_loader, optimizer, snr_list=np.array([10,15,20,25,30,35,40]), random_draw_snr=True, num_sec=17): # random_draw_snr=True means you want to train with noise data\n",
    "    model.train()\n",
    "    losses = []\n",
    "    np.random.seed(123)\n",
    "#     model.mask.test_mode = False\n",
    "    for (data, target) in tqdm(train_loader, leave=True, position=0):\n",
    "        target = target.reshape(-1,)\n",
    "        data, target = data.to(device).float(), target.to(device)\n",
    "        data = data[:,0:1024*num_sec,:]\n",
    "            \n",
    "        if random_draw_snr:\n",
    "            snr = snr_list[np.random.randint(len(snr_list))]*1.0\n",
    "            sigma_n = torch.unsqueeze(torch.std(data, dim=1)/(10**(snr/10))/np.sqrt(2), dim=1).repeat(1, data.size(1), 1).to(device)\n",
    "            noise = torch.unsqueeze(torch.unsqueeze(torch.randn(data.size(1)), dim=0), dim=2).repeat(data.size(0),1,data.size(2)).to(device)\n",
    "            data_noise = data + (sigma_n * noise)\n",
    "            data_noise = data_noise.permute(0,2,1).reshape(data_noise.size(0),2,num_sec,-1).permute(0,2,1,3)#.reshape(data.size(0),num_sec,-1)\n",
    "            data_noise = data_noise.reshape(data_noise.size(0), num_sec, 2, 32, 32).permute(0,1,2,4,3).reshape(data_noise.size(0)*num_sec, 64, 32).permute(0,2,1)\n",
    "            data_all = data_noise\n",
    "            target = torch.transpose(target.reshape(1,-1).repeat(17,1), 0, 1).reshape(-1,)\n",
    "        else:\n",
    "            data_all = data.permute(0,2,1).reshape(data.size(0),2,num_sec,-1).permute(0,2,1,3).reshape(data.size(0), num_sec, 2, 32, 32).permute(0,1,2,4,3).reshape(data.size(0)*num_sec, 64, 32).permute(0,2,1).unsqueeze(1).repeat(1,8,1,1)\n",
    "            for idx, snr in enumerate(snr_list):\n",
    "                sigma_n = torch.unsqueeze(torch.std(data, dim=1)/(10**(snr/10))/np.sqrt(2), dim=1).repeat(1, data.size(1), 1).to(device)\n",
    "                noise = torch.unsqueeze(torch.unsqueeze(torch.randn(data.size(1)), dim=0), dim=2).repeat(data.size(0),1,data.size(2)).to(device)\n",
    "                data_noise = data + (sigma_n * noise)\n",
    "                data_noise = data_noise.permute(0,2,1).reshape(data_noise.size(0),2,num_sec,-1).permute(0,2,1,3)#.reshape(data.size(0),num_sec,-1)\n",
    "                data_noise = data_noise.reshape(data_noise.size(0), num_sec, 2, 32, 32).permute(0,1,2,4,3).reshape(data_noise.size(0)*num_sec, 64, 32).permute(0,2,1)\n",
    "                data_all[:,idx+1,:,:] = data_noise\n",
    "            data_all = data_all.reshape(-1,32,64)\n",
    "            target = target.reshape(1,-1).repeat(17*(len(snr_list)+1),1).T.reshape(-1,)\n",
    "#         data_noise = data_noise.permute(0,2,1).reshape(data.size(0),2,17,-1).permute(0,2,1,3).reshape(data.size(0)*17,2,-1)\n",
    "\n",
    "        optimizer.zero_grad()\n",
    "        output, _ = model(data_all)\n",
    "        loss = criterion(output, target)\n",
    "        loss.backward()\n",
    "        optimizer.step()\n",
    "        losses.append(loss.item())\n",
    "\n",
    "    mean_loss = np.mean(losses)\n",
    "    return losses, mean_loss\n",
    "\n",
    "def test_noise(model, device, test_loader, snr_list=[0,10,20,30], random_draw_snr=True, num_sec=17):\n",
    "    model.eval()\n",
    "    test_loss = 0\n",
    "    correct = 0\n",
    "    prediction = []\n",
    "    label = []\n",
    "    np.random.seed(123)\n",
    "#     model.mask.test_mode = True\n",
    "    with torch.no_grad():\n",
    "        for data, target in tqdm(test_loader, leave=True, position=0):\n",
    "            target = target.reshape(-1,)\n",
    "            data, target = data.to(device).float(), target.to(device)\n",
    "            data = data[:,0:1024*num_sec,:]\n",
    "            if random_draw_snr:\n",
    "                snr = snr_list[np.random.randint(len(snr_list))]\n",
    "            else:\n",
    "                snr = snr_list[-1]\n",
    "            sigma_n = torch.unsqueeze(torch.std(data, dim=1)/(10**(snr/10))/np.sqrt(2), dim=1).repeat(1, data.size(1), 1).to(device)\n",
    "            noise = torch.unsqueeze(torch.unsqueeze(torch.randn(data.size(1)), dim=0), dim=2).repeat(data.size(0),1,data.size(2)).to(device)\n",
    "            data_noise = data + sigma_n * noise\n",
    "#             data_noise = data_noise.permute(0,2,1).reshape(data.size(0),2,17,-1)#.permute(0,2,1,3).reshape(data.size(0)*17,2,-1)\n",
    "            data_noise = data_noise.permute(0,2,1).reshape(data_noise.size(0),2,num_sec,-1).permute(0,2,1,3)#.reshape(data.size(0),num_sec,-1)\n",
    "            data_noise = data_noise.reshape(data_noise.size(0), num_sec, 2, 32, 32).permute(0,1,2,4,3).reshape(data_noise.size(0), num_sec, 64, 32).permute(0,1,3,2)\n",
    "            output_array = []            \n",
    "\n",
    "            for i in range(num_sec):\n",
    "                output_array.append(model(data_noise[:,i,:,:])[0])\n",
    "            output_array = torch.stack(output_array)\n",
    "            output = torch.mean(output_array, dim=0)\n",
    "            \n",
    "\n",
    "            test_loss += nn.functional.nll_loss(\n",
    "                output, target, reduction=\"sum\"\n",
    "            ).item()  # sum up batch loss\n",
    "            pred = output.argmax(\n",
    "                dim=1, keepdim=True\n",
    "            )  # get the index of the max log-probability\n",
    "            prediction.append(pred)\n",
    "            label.append(target)\n",
    "            correct += pred.eq(target.view_as(pred)).sum().item()\n",
    "            \n",
    "    test_loss /= len(test_loader.dataset)\n",
    "\n",
    "    accuracy = 100.0 * correct / len(test_loader.dataset)\n",
    "\n",
    "    return test_loss, accuracy, prediction, label"
   ]
  },
  {
   "cell_type": "markdown",
   "metadata": {},
   "source": [
    "## Study the effects of photonic weight precision"
   ]
  },
  {
   "cell_type": "code",
   "execution_count": 10,
   "metadata": {},
   "outputs": [
    {
     "name": "stderr",
     "output_type": "stream",
     "text": [
      "100%|██████████| 33/33 [00:08<00:00,  4.08it/s]"
     ]
    },
    {
     "name": "stdout",
     "output_type": "stream",
     "text": [
      "accuracy: 96.11178614823815 0.6641830331934468\n"
     ]
    },
    {
     "name": "stderr",
     "output_type": "stream",
     "text": [
      "\n"
     ]
    }
   ],
   "source": [
    "loaded = True\n",
    "DEVICE = torch.device(\"cpu\")\n",
    "PATH = '/home/weipengz'\n",
    "# model_name = 'WM_photonic_ctrnn_7device_2CNN_1FC_len=32_neuron16_noise.pt' #_aplha01, none\n",
    "# model_name = 'WM_photonic_ctrnn_v3_30device_2CNN_1FC_len=32_neuron16.pt'   \n",
    "model_name = 'snr61_39_ctrnn.pt'\n",
    "if loaded:\n",
    "    net_test = RNNNet(input_size=64, hidden_size=16, dt=5).to(DEVICE)\n",
    "    net_test.load_state_dict(torch.load(pjoin(PATH, model_name)))\n",
    "test_loader = testloader_filter\n",
    "# net_test.readout = False\n",
    "val_loss, accuracy, prediction, label = test_noise(net_test, DEVICE, test_loader, snr_list=[30])\n",
    "print('accuracy:', accuracy, val_loss)\n"
   ]
  },
  {
   "cell_type": "code",
   "execution_count": 11,
   "metadata": {},
   "outputs": [
    {
     "name": "stderr",
     "output_type": "stream",
     "text": [
      "  0%|          | 0/270 [00:00<?, ?it/s]"
     ]
    },
    {
     "name": "stdout",
     "output_type": "stream",
     "text": [
      "torch.Size([100, 30])\n"
     ]
    },
    {
     "name": "stderr",
     "output_type": "stream",
     "text": [
      "\n"
     ]
    }
   ],
   "source": [
    "num_sec = 17\n",
    "with torch.no_grad():\n",
    "    for data, target in tqdm(trainloader_filter, leave=True, position=0):\n",
    "        target = target.reshape(-1,)\n",
    "        data, target = data.to(DEVICE).float(), target.to(DEVICE)\n",
    "        data = data[:,0:1024*num_sec,:]\n",
    "        data = data.permute(0,2,1).reshape(data.size(0),2,num_sec,-1).permute(0,2,1,3)#.reshape(data.size(0),num_sec,-1)\n",
    "        data = data.reshape(data.size(0), num_sec, 2, 32, 32).permute(0,1,2,4,3).reshape(data.size(0), num_sec, 64, 32).permute(0,1,3,2)\n",
    "        output_array = []            \n",
    "\n",
    "        for i in range(num_sec):\n",
    "            output_array.append(net_test(data[:,i,:,:])[0])\n",
    "        output_array = torch.stack(output_array)\n",
    "        output = torch.mean(output_array, dim=0)\n",
    "        print(output.shape)\n",
    "        break"
   ]
  },
  {
   "cell_type": "code",
   "execution_count": 12,
   "metadata": {},
   "outputs": [
    {
     "name": "stderr",
     "output_type": "stream",
     "text": [
      "100%|██████████| 33/33 [00:00<00:00, 48.94it/s]\n"
     ]
    }
   ],
   "source": [
    "test_data_scaled = []\n",
    "test_label = []\n",
    "with torch.no_grad():\n",
    "    for data, target in tqdm(testloader_filter, leave=True, position=0):\n",
    "        target = target.reshape(-1,)\n",
    "        data, target = data.to(DEVICE).float(), target.to(DEVICE)\n",
    "        data = data[:,0:1024*num_sec,:]\n",
    "        data = data.permute(0,2,1).reshape(data.size(0),2,num_sec,-1).permute(0,2,1,3)#.reshape(data.size(0),num_sec,-1)\n",
    "        data = data.reshape(data.size(0), num_sec, 2, 32, 32).permute(0,1,2,4,3).reshape(data.size(0), num_sec, 64, 32).permute(0,1,3,2)\n",
    "        output_array = [] \n",
    "        data = data * 625\n",
    "        test_data_scaled.append(data.detach().cpu().numpy())\n",
    "        test_label.append(target.detach().cpu().numpy())\n",
    "#         for i in range(num_sec):\n",
    "            \n",
    "#             output_array.append(net_test(data[:,i,:,:])[0])\n",
    "#         break"
   ]
  },
  {
   "cell_type": "code",
   "execution_count": 13,
   "metadata": {},
   "outputs": [],
   "source": [
    "%load_ext autoreload\n",
    "%autoreload 2\n",
    "from dependencies.photonics import PWB\n",
    "from dependencies.mappers import PWBMapper, PWBArrayMapper\n",
    "#  Miscellaneous helpers and functions\n",
    "\n",
    "PWBArray_map = PWBArrayMapper()\n",
    "precision_list = [2**(i)-1 for i in range(1,10)]\n",
    "# rnn_input2h_w = PWBArray_map.build(net_test.rnn.input2h.weight.data.detach().cpu().numpy(), precision)\n",
    "\n",
    "# fc2_w = PWBArray_map.build(net_test.fc_layers[2].weight.data.detach().cpu().numpy())\n",
    "\n",
    "rnn_h2h_w_precision = []\n",
    "for precision in precision_list:\n",
    "    rnn_h2h_w_tensor = torch.zeros_like(net_test.rnn.h2h.weight.data)\n",
    "    rnn_h2h_w = PWBArray_map.build(net_test.rnn.h2h.weight.data.detach().cpu().numpy(), precision)\n",
    "    for i in range(rnn_h2h_w_tensor.size(0)):\n",
    "        rnn_h2h_w_tensor[i] = torch.FloatTensor(rnn_h2h_w.pwbs[i].outputGain*(rnn_h2h_w.pwbs[i]._dropput-rnn_h2h_w.pwbs[i]._throughput))\n",
    "    rnn_h2h_w_precision.append(rnn_h2h_w_tensor)\n",
    "    \n",
    "# print(rnn_h2h_w_precision)"
   ]
  },
  {
   "cell_type": "code",
   "execution_count": 14,
   "metadata": {},
   "outputs": [
    {
     "name": "stdout",
     "output_type": "stream",
     "text": [
      "Weight precision: 1 MSE: tensor(0.9992) error rate: tensor(-11.8722)\n",
      "Weight precision: 2 MSE: tensor(0.0173) error rate: tensor(-0.9877)\n",
      "Weight precision: 3 MSE: tensor(0.0072) error rate: tensor(-0.7257)\n",
      "Weight precision: 4 MSE: tensor(0.0019) error rate: tensor(-0.2878)\n",
      "Weight precision: 5 MSE: tensor(0.0004) error rate: tensor(-0.1476)\n",
      "Weight precision: 6 MSE: tensor(8.6311e-05) error rate: tensor(-0.0729)\n",
      "Weight precision: 7 MSE: tensor(2.1775e-05) error rate: tensor(-0.0387)\n",
      "Weight precision: 8 MSE: tensor(4.6726e-06) error rate: tensor(-0.0045)\n",
      "Weight precision: 9 MSE: tensor(1.2997e-06) error rate: tensor(-0.0061)\n"
     ]
    }
   ],
   "source": [
    "for i,j in enumerate(precision_list):\n",
    "    error_1 = torch.nn.functional.mse_loss(net_test.rnn.h2h.weight.data, rnn_h2h_w_precision[i]) # net.fc_layers[1].weight.data - fc1_w_tensor\n",
    "    err_rate_1 = torch.mean((rnn_h2h_w_precision[i]-net_test.rnn.h2h.weight.data)/net_test.rnn.h2h.weight.data)\n",
    "    print(\"Weight precision:\", int(np.log(j+1)/np.log(2)), \"MSE:\", error_1, \"error rate:\", err_rate_1)"
   ]
  },
  {
   "cell_type": "code",
   "execution_count": 15,
   "metadata": {
    "scrolled": true
   },
   "outputs": [
    {
     "name": "stderr",
     "output_type": "stream",
     "text": [
      "100%|██████████| 33/33 [00:08<00:00,  3.92it/s]\n",
      "  0%|          | 0/33 [00:00<?, ?it/s]"
     ]
    },
    {
     "name": "stdout",
     "output_type": "stream",
     "text": [
      "SNR: 30 Weight precision: 1 accuracy: 3.341433778857837\n"
     ]
    },
    {
     "name": "stderr",
     "output_type": "stream",
     "text": [
      "100%|██████████| 33/33 [00:08<00:00,  4.12it/s]\n",
      "  0%|          | 0/33 [00:00<?, ?it/s]"
     ]
    },
    {
     "name": "stdout",
     "output_type": "stream",
     "text": [
      "SNR: 30 Weight precision: 2 accuracy: 14.641555285540704\n"
     ]
    },
    {
     "name": "stderr",
     "output_type": "stream",
     "text": [
      "100%|██████████| 33/33 [00:08<00:00,  3.96it/s]\n",
      "  0%|          | 0/33 [00:00<?, ?it/s]"
     ]
    },
    {
     "name": "stdout",
     "output_type": "stream",
     "text": [
      "SNR: 30 Weight precision: 3 accuracy: 6.713244228432564\n"
     ]
    },
    {
     "name": "stderr",
     "output_type": "stream",
     "text": [
      "100%|██████████| 33/33 [00:08<00:00,  4.03it/s]\n",
      "  0%|          | 0/33 [00:00<?, ?it/s]"
     ]
    },
    {
     "name": "stdout",
     "output_type": "stream",
     "text": [
      "SNR: 30 Weight precision: 4 accuracy: 34.993924665856625\n"
     ]
    },
    {
     "name": "stderr",
     "output_type": "stream",
     "text": [
      "100%|██████████| 33/33 [00:08<00:00,  4.06it/s]\n",
      "  0%|          | 0/33 [00:00<?, ?it/s]"
     ]
    },
    {
     "name": "stdout",
     "output_type": "stream",
     "text": [
      "SNR: 30 Weight precision: 5 accuracy: 49.30133657351154\n"
     ]
    },
    {
     "name": "stderr",
     "output_type": "stream",
     "text": [
      "100%|██████████| 33/33 [00:08<00:00,  4.05it/s]\n",
      "  0%|          | 0/33 [00:00<?, ?it/s]"
     ]
    },
    {
     "name": "stdout",
     "output_type": "stream",
     "text": [
      "SNR: 30 Weight precision: 6 accuracy: 93.07411907654921\n"
     ]
    },
    {
     "name": "stderr",
     "output_type": "stream",
     "text": [
      "100%|██████████| 33/33 [00:08<00:00,  4.01it/s]\n",
      "  0%|          | 0/33 [00:00<?, ?it/s]"
     ]
    },
    {
     "name": "stdout",
     "output_type": "stream",
     "text": [
      "SNR: 30 Weight precision: 7 accuracy: 92.2235722964763\n"
     ]
    },
    {
     "name": "stderr",
     "output_type": "stream",
     "text": [
      "100%|██████████| 33/33 [00:08<00:00,  4.05it/s]\n",
      "  0%|          | 0/33 [00:00<?, ?it/s]"
     ]
    },
    {
     "name": "stdout",
     "output_type": "stream",
     "text": [
      "SNR: 30 Weight precision: 8 accuracy: 95.86877278250304\n"
     ]
    },
    {
     "name": "stderr",
     "output_type": "stream",
     "text": [
      "100%|██████████| 33/33 [00:08<00:00,  4.05it/s]\n",
      "  0%|          | 0/33 [00:00<?, ?it/s]"
     ]
    },
    {
     "name": "stdout",
     "output_type": "stream",
     "text": [
      "SNR: 30 Weight precision: 9 accuracy: 95.99027946537059\n"
     ]
    },
    {
     "name": "stderr",
     "output_type": "stream",
     "text": [
      "100%|██████████| 33/33 [00:08<00:00,  3.99it/s]\n",
      "  0%|          | 0/33 [00:00<?, ?it/s]"
     ]
    },
    {
     "name": "stdout",
     "output_type": "stream",
     "text": [
      "SNR: 25 Weight precision: 1 accuracy: 3.341433778857837\n"
     ]
    },
    {
     "name": "stderr",
     "output_type": "stream",
     "text": [
      "100%|██████████| 33/33 [00:08<00:00,  3.99it/s]\n",
      "  0%|          | 0/33 [00:00<?, ?it/s]"
     ]
    },
    {
     "name": "stdout",
     "output_type": "stream",
     "text": [
      "SNR: 25 Weight precision: 2 accuracy: 14.611178614823816\n"
     ]
    },
    {
     "name": "stderr",
     "output_type": "stream",
     "text": [
      "100%|██████████| 33/33 [00:08<00:00,  4.03it/s]\n",
      "  0%|          | 0/33 [00:00<?, ?it/s]"
     ]
    },
    {
     "name": "stdout",
     "output_type": "stream",
     "text": [
      "SNR: 25 Weight precision: 3 accuracy: 6.713244228432564\n"
     ]
    },
    {
     "name": "stderr",
     "output_type": "stream",
     "text": [
      "100%|██████████| 33/33 [00:08<00:00,  4.04it/s]\n",
      "  0%|          | 0/33 [00:00<?, ?it/s]"
     ]
    },
    {
     "name": "stdout",
     "output_type": "stream",
     "text": [
      "SNR: 25 Weight precision: 4 accuracy: 34.933171324422844\n"
     ]
    },
    {
     "name": "stderr",
     "output_type": "stream",
     "text": [
      "100%|██████████| 33/33 [00:09<00:00,  4.09it/s]\n",
      "  0%|          | 0/33 [00:00<?, ?it/s]"
     ]
    },
    {
     "name": "stdout",
     "output_type": "stream",
     "text": [
      "SNR: 25 Weight precision: 5 accuracy: 49.17982989064399\n"
     ]
    },
    {
     "name": "stderr",
     "output_type": "stream",
     "text": [
      "100%|██████████| 33/33 [00:08<00:00,  4.06it/s]\n",
      "  0%|          | 0/33 [00:00<?, ?it/s]"
     ]
    },
    {
     "name": "stdout",
     "output_type": "stream",
     "text": [
      "SNR: 25 Weight precision: 6 accuracy: 92.80072904009721\n"
     ]
    },
    {
     "name": "stderr",
     "output_type": "stream",
     "text": [
      "100%|██████████| 33/33 [00:08<00:00,  4.11it/s]\n",
      "  0%|          | 0/33 [00:00<?, ?it/s]"
     ]
    },
    {
     "name": "stdout",
     "output_type": "stream",
     "text": [
      "SNR: 25 Weight precision: 7 accuracy: 92.16281895504252\n"
     ]
    },
    {
     "name": "stderr",
     "output_type": "stream",
     "text": [
      "100%|██████████| 33/33 [00:08<00:00,  4.08it/s]\n",
      "  0%|          | 0/33 [00:00<?, ?it/s]"
     ]
    },
    {
     "name": "stdout",
     "output_type": "stream",
     "text": [
      "SNR: 25 Weight precision: 8 accuracy: 96.05103280680437\n"
     ]
    },
    {
     "name": "stderr",
     "output_type": "stream",
     "text": [
      "100%|██████████| 33/33 [00:08<00:00,  4.07it/s]\n",
      "  0%|          | 0/33 [00:00<?, ?it/s]"
     ]
    },
    {
     "name": "stdout",
     "output_type": "stream",
     "text": [
      "SNR: 25 Weight precision: 9 accuracy: 95.9599027946537\n"
     ]
    },
    {
     "name": "stderr",
     "output_type": "stream",
     "text": [
      "100%|██████████| 33/33 [00:08<00:00,  3.92it/s]\n",
      "  0%|          | 0/33 [00:00<?, ?it/s]"
     ]
    },
    {
     "name": "stdout",
     "output_type": "stream",
     "text": [
      "SNR: 20 Weight precision: 1 accuracy: 3.341433778857837\n"
     ]
    },
    {
     "name": "stderr",
     "output_type": "stream",
     "text": [
      "100%|██████████| 33/33 [00:09<00:00,  3.89it/s]\n",
      "  0%|          | 0/33 [00:00<?, ?it/s]"
     ]
    },
    {
     "name": "stdout",
     "output_type": "stream",
     "text": [
      "SNR: 20 Weight precision: 2 accuracy: 14.580801944106925\n"
     ]
    },
    {
     "name": "stderr",
     "output_type": "stream",
     "text": [
      "100%|██████████| 33/33 [00:08<00:00,  3.86it/s]\n",
      "  0%|          | 0/33 [00:00<?, ?it/s]"
     ]
    },
    {
     "name": "stdout",
     "output_type": "stream",
     "text": [
      "SNR: 20 Weight precision: 3 accuracy: 6.804374240583232\n"
     ]
    },
    {
     "name": "stderr",
     "output_type": "stream",
     "text": [
      "100%|██████████| 33/33 [00:09<00:00,  4.00it/s]\n",
      "  0%|          | 0/33 [00:00<?, ?it/s]"
     ]
    },
    {
     "name": "stdout",
     "output_type": "stream",
     "text": [
      "SNR: 20 Weight precision: 4 accuracy: 35.388821385176186\n"
     ]
    },
    {
     "name": "stderr",
     "output_type": "stream",
     "text": [
      "100%|██████████| 33/33 [00:08<00:00,  4.08it/s]\n",
      "  0%|          | 0/33 [00:00<?, ?it/s]"
     ]
    },
    {
     "name": "stdout",
     "output_type": "stream",
     "text": [
      "SNR: 20 Weight precision: 5 accuracy: 48.8456865127582\n"
     ]
    },
    {
     "name": "stderr",
     "output_type": "stream",
     "text": [
      "100%|██████████| 33/33 [00:08<00:00,  4.10it/s]\n",
      "  0%|          | 0/33 [00:00<?, ?it/s]"
     ]
    },
    {
     "name": "stdout",
     "output_type": "stream",
     "text": [
      "SNR: 20 Weight precision: 6 accuracy: 92.70959902794654\n"
     ]
    },
    {
     "name": "stderr",
     "output_type": "stream",
     "text": [
      "100%|██████████| 33/33 [00:08<00:00,  4.11it/s]\n",
      "  0%|          | 0/33 [00:00<?, ?it/s]"
     ]
    },
    {
     "name": "stdout",
     "output_type": "stream",
     "text": [
      "SNR: 20 Weight precision: 7 accuracy: 91.70716889428918\n"
     ]
    },
    {
     "name": "stderr",
     "output_type": "stream",
     "text": [
      "100%|██████████| 33/33 [00:08<00:00,  4.10it/s]\n",
      "  0%|          | 0/33 [00:00<?, ?it/s]"
     ]
    },
    {
     "name": "stdout",
     "output_type": "stream",
     "text": [
      "SNR: 20 Weight precision: 8 accuracy: 95.65613608748481\n"
     ]
    },
    {
     "name": "stderr",
     "output_type": "stream",
     "text": [
      "100%|██████████| 33/33 [00:08<00:00,  4.12it/s]\n",
      "  0%|          | 0/33 [00:00<?, ?it/s]"
     ]
    },
    {
     "name": "stdout",
     "output_type": "stream",
     "text": [
      "SNR: 20 Weight precision: 9 accuracy: 95.65613608748481\n"
     ]
    },
    {
     "name": "stderr",
     "output_type": "stream",
     "text": [
      "100%|██████████| 33/33 [00:08<00:00,  3.36it/s]\n",
      "  0%|          | 0/33 [00:00<?, ?it/s]"
     ]
    },
    {
     "name": "stdout",
     "output_type": "stream",
     "text": [
      "SNR: 15 Weight precision: 1 accuracy: 3.341433778857837\n"
     ]
    },
    {
     "name": "stderr",
     "output_type": "stream",
     "text": [
      "100%|██████████| 33/33 [00:08<00:00,  3.95it/s]\n",
      "  0%|          | 0/33 [00:00<?, ?it/s]"
     ]
    },
    {
     "name": "stdout",
     "output_type": "stream",
     "text": [
      "SNR: 15 Weight precision: 2 accuracy: 15.097205346294047\n"
     ]
    },
    {
     "name": "stderr",
     "output_type": "stream",
     "text": [
      "100%|██████████| 33/33 [00:09<00:00,  3.93it/s]\n",
      "  0%|          | 0/33 [00:00<?, ?it/s]"
     ]
    },
    {
     "name": "stdout",
     "output_type": "stream",
     "text": [
      "SNR: 15 Weight precision: 3 accuracy: 6.591737545565006\n"
     ]
    },
    {
     "name": "stderr",
     "output_type": "stream",
     "text": [
      "100%|██████████| 33/33 [00:08<00:00,  4.08it/s]\n",
      "  0%|          | 0/33 [00:00<?, ?it/s]"
     ]
    },
    {
     "name": "stdout",
     "output_type": "stream",
     "text": [
      "SNR: 15 Weight precision: 4 accuracy: 34.90279465370595\n"
     ]
    },
    {
     "name": "stderr",
     "output_type": "stream",
     "text": [
      "100%|██████████| 33/33 [00:08<00:00,  4.02it/s]\n",
      "  0%|          | 0/33 [00:00<?, ?it/s]"
     ]
    },
    {
     "name": "stdout",
     "output_type": "stream",
     "text": [
      "SNR: 15 Weight precision: 5 accuracy: 39.9453219927096\n"
     ]
    },
    {
     "name": "stderr",
     "output_type": "stream",
     "text": [
      "100%|██████████| 33/33 [00:08<00:00,  3.96it/s]\n",
      "  0%|          | 0/33 [00:00<?, ?it/s]"
     ]
    },
    {
     "name": "stdout",
     "output_type": "stream",
     "text": [
      "SNR: 15 Weight precision: 6 accuracy: 87.18104495747266\n"
     ]
    },
    {
     "name": "stderr",
     "output_type": "stream",
     "text": [
      "100%|██████████| 33/33 [00:08<00:00,  3.99it/s]\n",
      "  0%|          | 0/33 [00:00<?, ?it/s]"
     ]
    },
    {
     "name": "stdout",
     "output_type": "stream",
     "text": [
      "SNR: 15 Weight precision: 7 accuracy: 86.7861482381531\n"
     ]
    },
    {
     "name": "stderr",
     "output_type": "stream",
     "text": [
      "100%|██████████| 33/33 [00:08<00:00,  4.06it/s]\n",
      "  0%|          | 0/33 [00:00<?, ?it/s]"
     ]
    },
    {
     "name": "stdout",
     "output_type": "stream",
     "text": [
      "SNR: 15 Weight precision: 8 accuracy: 93.07411907654921\n"
     ]
    },
    {
     "name": "stderr",
     "output_type": "stream",
     "text": [
      "100%|██████████| 33/33 [00:08<00:00,  4.05it/s]\n",
      "  0%|          | 0/33 [00:00<?, ?it/s]"
     ]
    },
    {
     "name": "stdout",
     "output_type": "stream",
     "text": [
      "SNR: 15 Weight precision: 9 accuracy: 92.34507897934387\n"
     ]
    },
    {
     "name": "stderr",
     "output_type": "stream",
     "text": [
      "100%|██████████| 33/33 [00:08<00:00,  3.99it/s]\n",
      "  0%|          | 0/33 [00:00<?, ?it/s]"
     ]
    },
    {
     "name": "stdout",
     "output_type": "stream",
     "text": [
      "SNR: 14 Weight precision: 1 accuracy: 3.341433778857837\n"
     ]
    },
    {
     "name": "stderr",
     "output_type": "stream",
     "text": [
      "100%|██████████| 33/33 [00:08<00:00,  4.05it/s]\n",
      "  0%|          | 0/33 [00:00<?, ?it/s]"
     ]
    },
    {
     "name": "stdout",
     "output_type": "stream",
     "text": [
      "SNR: 14 Weight precision: 2 accuracy: 14.520048602673148\n"
     ]
    },
    {
     "name": "stderr",
     "output_type": "stream",
     "text": [
      "100%|██████████| 33/33 [00:08<00:00,  4.00it/s]\n",
      "  0%|          | 0/33 [00:00<?, ?it/s]"
     ]
    },
    {
     "name": "stdout",
     "output_type": "stream",
     "text": [
      "SNR: 14 Weight precision: 3 accuracy: 6.682867557715674\n"
     ]
    },
    {
     "name": "stderr",
     "output_type": "stream",
     "text": [
      "100%|██████████| 33/33 [00:08<00:00,  4.03it/s]\n",
      "  0%|          | 0/33 [00:00<?, ?it/s]"
     ]
    },
    {
     "name": "stdout",
     "output_type": "stream",
     "text": [
      "SNR: 14 Weight precision: 4 accuracy: 33.96111786148238\n"
     ]
    },
    {
     "name": "stderr",
     "output_type": "stream",
     "text": [
      "100%|██████████| 33/33 [00:08<00:00,  3.98it/s]\n",
      "  0%|          | 0/33 [00:00<?, ?it/s]"
     ]
    },
    {
     "name": "stdout",
     "output_type": "stream",
     "text": [
      "SNR: 14 Weight precision: 5 accuracy: 37.21142162818955\n"
     ]
    },
    {
     "name": "stderr",
     "output_type": "stream",
     "text": [
      "100%|██████████| 33/33 [00:08<00:00,  4.05it/s]\n",
      "  0%|          | 0/33 [00:00<?, ?it/s]"
     ]
    },
    {
     "name": "stdout",
     "output_type": "stream",
     "text": [
      "SNR: 14 Weight precision: 6 accuracy: 82.13851761846901\n"
     ]
    },
    {
     "name": "stderr",
     "output_type": "stream",
     "text": [
      "100%|██████████| 33/33 [00:08<00:00,  4.00it/s]\n",
      "  0%|          | 0/33 [00:00<?, ?it/s]"
     ]
    },
    {
     "name": "stdout",
     "output_type": "stream",
     "text": [
      "SNR: 14 Weight precision: 7 accuracy: 80.68043742405833\n"
     ]
    },
    {
     "name": "stderr",
     "output_type": "stream",
     "text": [
      "100%|██████████| 33/33 [00:08<00:00,  4.03it/s]\n",
      "  0%|          | 0/33 [00:00<?, ?it/s]"
     ]
    },
    {
     "name": "stdout",
     "output_type": "stream",
     "text": [
      "SNR: 14 Weight precision: 8 accuracy: 87.48481166464155\n"
     ]
    },
    {
     "name": "stderr",
     "output_type": "stream",
     "text": [
      "100%|██████████| 33/33 [00:08<00:00,  4.00it/s]\n",
      "  0%|          | 0/33 [00:00<?, ?it/s]"
     ]
    },
    {
     "name": "stdout",
     "output_type": "stream",
     "text": [
      "SNR: 14 Weight precision: 9 accuracy: 87.27217496962334\n"
     ]
    },
    {
     "name": "stderr",
     "output_type": "stream",
     "text": [
      "100%|██████████| 33/33 [00:09<00:00,  3.17it/s]\n",
      "  0%|          | 0/33 [00:00<?, ?it/s]"
     ]
    },
    {
     "name": "stdout",
     "output_type": "stream",
     "text": [
      "SNR: 13 Weight precision: 1 accuracy: 3.341433778857837\n"
     ]
    },
    {
     "name": "stderr",
     "output_type": "stream",
     "text": [
      "100%|██████████| 33/33 [00:08<00:00,  4.06it/s]\n",
      "  0%|          | 0/33 [00:00<?, ?it/s]"
     ]
    },
    {
     "name": "stdout",
     "output_type": "stream",
     "text": [
      "SNR: 13 Weight precision: 2 accuracy: 14.91494532199271\n"
     ]
    },
    {
     "name": "stderr",
     "output_type": "stream",
     "text": [
      "100%|██████████| 33/33 [00:09<00:00,  3.24it/s]\n",
      "  0%|          | 0/33 [00:00<?, ?it/s]"
     ]
    },
    {
     "name": "stdout",
     "output_type": "stream",
     "text": [
      "SNR: 13 Weight precision: 3 accuracy: 6.227217496962333\n"
     ]
    },
    {
     "name": "stderr",
     "output_type": "stream",
     "text": [
      "100%|██████████| 33/33 [00:08<00:00,  4.05it/s]\n",
      "  0%|          | 0/33 [00:00<?, ?it/s]"
     ]
    },
    {
     "name": "stdout",
     "output_type": "stream",
     "text": [
      "SNR: 13 Weight precision: 4 accuracy: 32.92831105710814\n"
     ]
    },
    {
     "name": "stderr",
     "output_type": "stream",
     "text": [
      "100%|██████████| 33/33 [00:08<00:00,  4.08it/s]\n",
      "  0%|          | 0/33 [00:00<?, ?it/s]"
     ]
    },
    {
     "name": "stdout",
     "output_type": "stream",
     "text": [
      "SNR: 13 Weight precision: 5 accuracy: 30.984204131227216\n"
     ]
    },
    {
     "name": "stderr",
     "output_type": "stream",
     "text": [
      "100%|██████████| 33/33 [00:08<00:00,  4.01it/s]\n",
      "  0%|          | 0/33 [00:00<?, ?it/s]"
     ]
    },
    {
     "name": "stdout",
     "output_type": "stream",
     "text": [
      "SNR: 13 Weight precision: 6 accuracy: 70.83839611178615\n"
     ]
    },
    {
     "name": "stderr",
     "output_type": "stream",
     "text": [
      "100%|██████████| 33/33 [00:08<00:00,  3.98it/s]\n",
      "  0%|          | 0/33 [00:00<?, ?it/s]"
     ]
    },
    {
     "name": "stdout",
     "output_type": "stream",
     "text": [
      "SNR: 13 Weight precision: 7 accuracy: 69.5625759416768\n"
     ]
    },
    {
     "name": "stderr",
     "output_type": "stream",
     "text": [
      "100%|██████████| 33/33 [00:08<00:00,  4.02it/s]\n",
      "  0%|          | 0/33 [00:00<?, ?it/s]"
     ]
    },
    {
     "name": "stdout",
     "output_type": "stream",
     "text": [
      "SNR: 13 Weight precision: 8 accuracy: 74.30133657351155\n"
     ]
    },
    {
     "name": "stderr",
     "output_type": "stream",
     "text": [
      "100%|██████████| 33/33 [00:09<00:00,  3.27it/s]\n",
      "  0%|          | 0/33 [00:00<?, ?it/s]"
     ]
    },
    {
     "name": "stdout",
     "output_type": "stream",
     "text": [
      "SNR: 13 Weight precision: 9 accuracy: 74.90886998784933\n"
     ]
    },
    {
     "name": "stderr",
     "output_type": "stream",
     "text": [
      "100%|██████████| 33/33 [00:10<00:00,  3.18it/s]\n",
      "  0%|          | 0/33 [00:00<?, ?it/s]"
     ]
    },
    {
     "name": "stdout",
     "output_type": "stream",
     "text": [
      "SNR: 12 Weight precision: 1 accuracy: 3.341433778857837\n"
     ]
    },
    {
     "name": "stderr",
     "output_type": "stream",
     "text": [
      "100%|██████████| 33/33 [00:09<00:00,  3.99it/s]\n",
      "  0%|          | 0/33 [00:00<?, ?it/s]"
     ]
    },
    {
     "name": "stdout",
     "output_type": "stream",
     "text": [
      "SNR: 12 Weight precision: 2 accuracy: 14.489671931956257\n"
     ]
    },
    {
     "name": "stderr",
     "output_type": "stream",
     "text": [
      "100%|██████████| 33/33 [00:08<00:00,  3.66it/s]\n",
      "  0%|          | 0/33 [00:00<?, ?it/s]"
     ]
    },
    {
     "name": "stdout",
     "output_type": "stream",
     "text": [
      "SNR: 12 Weight precision: 3 accuracy: 5.558930741190766\n"
     ]
    },
    {
     "name": "stderr",
     "output_type": "stream",
     "text": [
      "100%|██████████| 33/33 [00:08<00:00,  4.10it/s]\n",
      "  0%|          | 0/33 [00:00<?, ?it/s]"
     ]
    },
    {
     "name": "stdout",
     "output_type": "stream",
     "text": [
      "SNR: 12 Weight precision: 4 accuracy: 30.984204131227216\n"
     ]
    },
    {
     "name": "stderr",
     "output_type": "stream",
     "text": [
      "100%|██████████| 33/33 [00:08<00:00,  3.98it/s]\n",
      "  0%|          | 0/33 [00:00<?, ?it/s]"
     ]
    },
    {
     "name": "stdout",
     "output_type": "stream",
     "text": [
      "SNR: 12 Weight precision: 5 accuracy: 23.693803159173754\n"
     ]
    },
    {
     "name": "stderr",
     "output_type": "stream",
     "text": [
      "100%|██████████| 33/33 [00:08<00:00,  4.03it/s]\n",
      "  0%|          | 0/33 [00:00<?, ?it/s]"
     ]
    },
    {
     "name": "stdout",
     "output_type": "stream",
     "text": [
      "SNR: 12 Weight precision: 6 accuracy: 47.81287970838396\n"
     ]
    },
    {
     "name": "stderr",
     "output_type": "stream",
     "text": [
      "100%|██████████| 33/33 [00:09<00:00,  3.27it/s]\n",
      "  0%|          | 0/33 [00:00<?, ?it/s]"
     ]
    },
    {
     "name": "stdout",
     "output_type": "stream",
     "text": [
      "SNR: 12 Weight precision: 7 accuracy: 52.5820170109356\n"
     ]
    },
    {
     "name": "stderr",
     "output_type": "stream",
     "text": [
      "100%|██████████| 33/33 [00:10<00:00,  3.26it/s]\n",
      "  0%|          | 0/33 [00:00<?, ?it/s]"
     ]
    },
    {
     "name": "stdout",
     "output_type": "stream",
     "text": [
      "SNR: 12 Weight precision: 8 accuracy: 53.58444714459295\n"
     ]
    },
    {
     "name": "stderr",
     "output_type": "stream",
     "text": [
      "100%|██████████| 33/33 [00:10<00:00,  3.27it/s]\n",
      "  0%|          | 0/33 [00:00<?, ?it/s]"
     ]
    },
    {
     "name": "stdout",
     "output_type": "stream",
     "text": [
      "SNR: 12 Weight precision: 9 accuracy: 54.04009720534629\n"
     ]
    },
    {
     "name": "stderr",
     "output_type": "stream",
     "text": [
      "100%|██████████| 33/33 [00:08<00:00,  4.00it/s]\n",
      "  0%|          | 0/33 [00:00<?, ?it/s]"
     ]
    },
    {
     "name": "stdout",
     "output_type": "stream",
     "text": [
      "SNR: 11 Weight precision: 1 accuracy: 3.341433778857837\n"
     ]
    },
    {
     "name": "stderr",
     "output_type": "stream",
     "text": [
      "100%|██████████| 33/33 [00:08<00:00,  3.98it/s]\n",
      "  0%|          | 0/33 [00:00<?, ?it/s]"
     ]
    },
    {
     "name": "stdout",
     "output_type": "stream",
     "text": [
      "SNR: 11 Weight precision: 2 accuracy: 15.249088699878493\n"
     ]
    },
    {
     "name": "stderr",
     "output_type": "stream",
     "text": [
      "100%|██████████| 33/33 [00:09<00:00,  3.82it/s]\n",
      "  0%|          | 0/33 [00:00<?, ?it/s]"
     ]
    },
    {
     "name": "stdout",
     "output_type": "stream",
     "text": [
      "SNR: 11 Weight precision: 3 accuracy: 5.103280680437424\n"
     ]
    },
    {
     "name": "stderr",
     "output_type": "stream",
     "text": [
      "100%|██████████| 33/33 [00:08<00:00,  4.04it/s]\n",
      "  0%|          | 0/33 [00:00<?, ?it/s]"
     ]
    },
    {
     "name": "stdout",
     "output_type": "stream",
     "text": [
      "SNR: 11 Weight precision: 4 accuracy: 25.607533414337787\n"
     ]
    },
    {
     "name": "stderr",
     "output_type": "stream",
     "text": [
      "100%|██████████| 33/33 [00:08<00:00,  4.00it/s]\n",
      "  0%|          | 0/33 [00:00<?, ?it/s]"
     ]
    },
    {
     "name": "stdout",
     "output_type": "stream",
     "text": [
      "SNR: 11 Weight precision: 5 accuracy: 17.253948967193196\n"
     ]
    },
    {
     "name": "stderr",
     "output_type": "stream",
     "text": [
      "100%|██████████| 33/33 [00:09<00:00,  4.03it/s]\n",
      "  0%|          | 0/33 [00:00<?, ?it/s]"
     ]
    },
    {
     "name": "stdout",
     "output_type": "stream",
     "text": [
      "SNR: 11 Weight precision: 6 accuracy: 28.79708383961118\n"
     ]
    },
    {
     "name": "stderr",
     "output_type": "stream",
     "text": [
      "100%|██████████| 33/33 [00:08<00:00,  3.53it/s]\n",
      "  0%|          | 0/33 [00:00<?, ?it/s]"
     ]
    },
    {
     "name": "stdout",
     "output_type": "stream",
     "text": [
      "SNR: 11 Weight precision: 7 accuracy: 30.83232077764277\n"
     ]
    },
    {
     "name": "stderr",
     "output_type": "stream",
     "text": [
      "100%|██████████| 33/33 [00:09<00:00,  3.26it/s]\n",
      "  0%|          | 0/33 [00:00<?, ?it/s]"
     ]
    },
    {
     "name": "stdout",
     "output_type": "stream",
     "text": [
      "SNR: 11 Weight precision: 8 accuracy: 32.806804374240585\n"
     ]
    },
    {
     "name": "stderr",
     "output_type": "stream",
     "text": [
      "100%|██████████| 33/33 [00:08<00:00,  4.03it/s]\n",
      "  0%|          | 0/33 [00:00<?, ?it/s]"
     ]
    },
    {
     "name": "stdout",
     "output_type": "stream",
     "text": [
      "SNR: 11 Weight precision: 9 accuracy: 31.19684082624544\n"
     ]
    },
    {
     "name": "stderr",
     "output_type": "stream",
     "text": [
      "100%|██████████| 33/33 [00:09<00:00,  3.88it/s]\n",
      "  0%|          | 0/33 [00:00<?, ?it/s]"
     ]
    },
    {
     "name": "stdout",
     "output_type": "stream",
     "text": [
      "SNR: 10 Weight precision: 1 accuracy: 3.341433778857837\n"
     ]
    },
    {
     "name": "stderr",
     "output_type": "stream",
     "text": [
      "100%|██████████| 33/33 [00:08<00:00,  3.98it/s]\n",
      "  0%|          | 0/33 [00:00<?, ?it/s]"
     ]
    },
    {
     "name": "stdout",
     "output_type": "stream",
     "text": [
      "SNR: 10 Weight precision: 2 accuracy: 13.882138517618468\n"
     ]
    },
    {
     "name": "stderr",
     "output_type": "stream",
     "text": [
      "100%|██████████| 33/33 [00:09<00:00,  3.22it/s]\n",
      "  0%|          | 0/33 [00:00<?, ?it/s]"
     ]
    },
    {
     "name": "stdout",
     "output_type": "stream",
     "text": [
      "SNR: 10 Weight precision: 3 accuracy: 5.467800729040097\n"
     ]
    },
    {
     "name": "stderr",
     "output_type": "stream",
     "text": [
      "100%|██████████| 33/33 [00:09<00:00,  3.99it/s]\n",
      "  0%|          | 0/33 [00:00<?, ?it/s]"
     ]
    },
    {
     "name": "stdout",
     "output_type": "stream",
     "text": [
      "SNR: 10 Weight precision: 4 accuracy: 18.863912515188336\n"
     ]
    },
    {
     "name": "stderr",
     "output_type": "stream",
     "text": [
      "100%|██████████| 33/33 [00:08<00:00,  4.02it/s]\n",
      "  0%|          | 0/33 [00:00<?, ?it/s]"
     ]
    },
    {
     "name": "stdout",
     "output_type": "stream",
     "text": [
      "SNR: 10 Weight precision: 5 accuracy: 13.213851761846902\n"
     ]
    },
    {
     "name": "stderr",
     "output_type": "stream",
     "text": [
      "100%|██████████| 33/33 [00:08<00:00,  4.03it/s]\n",
      "  0%|          | 0/33 [00:00<?, ?it/s]"
     ]
    },
    {
     "name": "stdout",
     "output_type": "stream",
     "text": [
      "SNR: 10 Weight precision: 6 accuracy: 14.763061968408262\n"
     ]
    },
    {
     "name": "stderr",
     "output_type": "stream",
     "text": [
      "100%|██████████| 33/33 [00:08<00:00,  4.07it/s]\n",
      "  0%|          | 0/33 [00:00<?, ?it/s]"
     ]
    },
    {
     "name": "stdout",
     "output_type": "stream",
     "text": [
      "SNR: 10 Weight precision: 7 accuracy: 16.0996354799514\n"
     ]
    },
    {
     "name": "stderr",
     "output_type": "stream",
     "text": [
      "100%|██████████| 33/33 [00:08<00:00,  4.06it/s]\n",
      "  0%|          | 0/33 [00:00<?, ?it/s]"
     ]
    },
    {
     "name": "stdout",
     "output_type": "stream",
     "text": [
      "SNR: 10 Weight precision: 8 accuracy: 17.01093560145808\n"
     ]
    },
    {
     "name": "stderr",
     "output_type": "stream",
     "text": [
      "100%|██████████| 33/33 [00:08<00:00,  4.03it/s]\n",
      "  0%|          | 0/33 [00:00<?, ?it/s]"
     ]
    },
    {
     "name": "stdout",
     "output_type": "stream",
     "text": [
      "SNR: 10 Weight precision: 9 accuracy: 17.40583232077764\n"
     ]
    },
    {
     "name": "stderr",
     "output_type": "stream",
     "text": [
      "100%|██████████| 33/33 [00:08<00:00,  3.88it/s]\n",
      "  0%|          | 0/33 [00:00<?, ?it/s]"
     ]
    },
    {
     "name": "stdout",
     "output_type": "stream",
     "text": [
      "SNR: 9 Weight precision: 1 accuracy: 3.341433778857837\n"
     ]
    },
    {
     "name": "stderr",
     "output_type": "stream",
     "text": [
      "100%|██████████| 33/33 [00:09<00:00,  3.24it/s]\n",
      "  0%|          | 0/33 [00:00<?, ?it/s]"
     ]
    },
    {
     "name": "stdout",
     "output_type": "stream",
     "text": [
      "SNR: 9 Weight precision: 2 accuracy: 11.846901579586877\n"
     ]
    },
    {
     "name": "stderr",
     "output_type": "stream",
     "text": [
      "100%|██████████| 33/33 [00:08<00:00,  3.87it/s]\n",
      "  0%|          | 0/33 [00:00<?, ?it/s]"
     ]
    },
    {
     "name": "stdout",
     "output_type": "stream",
     "text": [
      "SNR: 9 Weight precision: 3 accuracy: 4.860267314702309\n"
     ]
    },
    {
     "name": "stderr",
     "output_type": "stream",
     "text": [
      "100%|██████████| 33/33 [00:08<00:00,  4.03it/s]\n",
      "  0%|          | 0/33 [00:00<?, ?it/s]"
     ]
    },
    {
     "name": "stdout",
     "output_type": "stream",
     "text": [
      "SNR: 9 Weight precision: 4 accuracy: 11.482381530984204\n"
     ]
    },
    {
     "name": "stderr",
     "output_type": "stream",
     "text": [
      "100%|██████████| 33/33 [00:08<00:00,  3.98it/s]\n",
      "  0%|          | 0/33 [00:00<?, ?it/s]"
     ]
    },
    {
     "name": "stdout",
     "output_type": "stream",
     "text": [
      "SNR: 9 Weight precision: 5 accuracy: 11.75577156743621\n"
     ]
    },
    {
     "name": "stderr",
     "output_type": "stream",
     "text": [
      "100%|██████████| 33/33 [00:08<00:00,  4.05it/s]\n",
      "  0%|          | 0/33 [00:00<?, ?it/s]"
     ]
    },
    {
     "name": "stdout",
     "output_type": "stream",
     "text": [
      "SNR: 9 Weight precision: 6 accuracy: 10.388821385176184\n"
     ]
    },
    {
     "name": "stderr",
     "output_type": "stream",
     "text": [
      "100%|██████████| 33/33 [00:08<00:00,  4.04it/s]\n",
      "  0%|          | 0/33 [00:00<?, ?it/s]"
     ]
    },
    {
     "name": "stdout",
     "output_type": "stream",
     "text": [
      "SNR: 9 Weight precision: 7 accuracy: 10.176184690157958\n"
     ]
    },
    {
     "name": "stderr",
     "output_type": "stream",
     "text": [
      "100%|██████████| 33/33 [00:08<00:00,  4.01it/s]\n",
      "  0%|          | 0/33 [00:00<?, ?it/s]"
     ]
    },
    {
     "name": "stdout",
     "output_type": "stream",
     "text": [
      "SNR: 9 Weight precision: 8 accuracy: 11.725394896719319\n"
     ]
    },
    {
     "name": "stderr",
     "output_type": "stream",
     "text": [
      "100%|██████████| 33/33 [00:08<00:00,  3.98it/s]\n",
      "  0%|          | 0/33 [00:00<?, ?it/s]"
     ]
    },
    {
     "name": "stdout",
     "output_type": "stream",
     "text": [
      "SNR: 9 Weight precision: 9 accuracy: 11.17861482381531\n"
     ]
    },
    {
     "name": "stderr",
     "output_type": "stream",
     "text": [
      "100%|██████████| 33/33 [00:09<00:00,  3.92it/s]\n",
      "  0%|          | 0/33 [00:00<?, ?it/s]"
     ]
    },
    {
     "name": "stdout",
     "output_type": "stream",
     "text": [
      "SNR: 8 Weight precision: 1 accuracy: 3.341433778857837\n"
     ]
    },
    {
     "name": "stderr",
     "output_type": "stream",
     "text": [
      "100%|██████████| 33/33 [00:09<00:00,  3.99it/s]\n",
      "  0%|          | 0/33 [00:00<?, ?it/s]"
     ]
    },
    {
     "name": "stdout",
     "output_type": "stream",
     "text": [
      "SNR: 8 Weight precision: 2 accuracy: 9.295261239368164\n"
     ]
    },
    {
     "name": "stderr",
     "output_type": "stream",
     "text": [
      "100%|██████████| 33/33 [00:08<00:00,  4.03it/s]\n",
      "  0%|          | 0/33 [00:00<?, ?it/s]"
     ]
    },
    {
     "name": "stdout",
     "output_type": "stream",
     "text": [
      "SNR: 8 Weight precision: 3 accuracy: 3.9185905224787363\n"
     ]
    },
    {
     "name": "stderr",
     "output_type": "stream",
     "text": [
      "100%|██████████| 33/33 [00:08<00:00,  4.07it/s]\n",
      "  0%|          | 0/33 [00:00<?, ?it/s]"
     ]
    },
    {
     "name": "stdout",
     "output_type": "stream",
     "text": [
      "SNR: 8 Weight precision: 4 accuracy: 8.019441069258809\n"
     ]
    },
    {
     "name": "stderr",
     "output_type": "stream",
     "text": [
      "100%|██████████| 33/33 [00:09<00:00,  3.86it/s]\n",
      "  0%|          | 0/33 [00:00<?, ?it/s]"
     ]
    },
    {
     "name": "stdout",
     "output_type": "stream",
     "text": [
      "SNR: 8 Weight precision: 5 accuracy: 8.778857837181045\n"
     ]
    },
    {
     "name": "stderr",
     "output_type": "stream",
     "text": [
      "100%|██████████| 33/33 [00:10<00:00,  3.26it/s]\n",
      "  0%|          | 0/33 [00:00<?, ?it/s]"
     ]
    },
    {
     "name": "stdout",
     "output_type": "stream",
     "text": [
      "SNR: 8 Weight precision: 6 accuracy: 8.869987849331713\n"
     ]
    },
    {
     "name": "stderr",
     "output_type": "stream",
     "text": [
      "100%|██████████| 33/33 [00:08<00:00,  4.01it/s]\n",
      "  0%|          | 0/33 [00:00<?, ?it/s]"
     ]
    },
    {
     "name": "stdout",
     "output_type": "stream",
     "text": [
      "SNR: 8 Weight precision: 7 accuracy: 7.685297691373026\n"
     ]
    },
    {
     "name": "stderr",
     "output_type": "stream",
     "text": [
      "100%|██████████| 33/33 [00:08<00:00,  4.05it/s]\n",
      "  0%|          | 0/33 [00:00<?, ?it/s]"
     ]
    },
    {
     "name": "stdout",
     "output_type": "stream",
     "text": [
      "SNR: 8 Weight precision: 8 accuracy: 9.750911300121507\n"
     ]
    },
    {
     "name": "stderr",
     "output_type": "stream",
     "text": [
      "100%|██████████| 33/33 [00:08<00:00,  4.03it/s]\n",
      "  0%|          | 0/33 [00:00<?, ?it/s]"
     ]
    },
    {
     "name": "stdout",
     "output_type": "stream",
     "text": [
      "SNR: 8 Weight precision: 9 accuracy: 8.778857837181045\n"
     ]
    },
    {
     "name": "stderr",
     "output_type": "stream",
     "text": [
      "100%|██████████| 33/33 [00:08<00:00,  3.91it/s]\n",
      "  0%|          | 0/33 [00:00<?, ?it/s]"
     ]
    },
    {
     "name": "stdout",
     "output_type": "stream",
     "text": [
      "SNR: 7 Weight precision: 1 accuracy: 3.341433778857837\n"
     ]
    },
    {
     "name": "stderr",
     "output_type": "stream",
     "text": [
      "100%|██████████| 33/33 [00:09<00:00,  3.83it/s]\n",
      "  0%|          | 0/33 [00:00<?, ?it/s]"
     ]
    },
    {
     "name": "stdout",
     "output_type": "stream",
     "text": [
      "SNR: 7 Weight precision: 2 accuracy: 6.956257594167679\n"
     ]
    },
    {
     "name": "stderr",
     "output_type": "stream",
     "text": [
      "100%|██████████| 33/33 [00:08<00:00,  3.93it/s]\n",
      "  0%|          | 0/33 [00:00<?, ?it/s]"
     ]
    },
    {
     "name": "stdout",
     "output_type": "stream",
     "text": [
      "SNR: 7 Weight precision: 3 accuracy: 3.5236938031591736\n"
     ]
    },
    {
     "name": "stderr",
     "output_type": "stream",
     "text": [
      "100%|██████████| 33/33 [00:08<00:00,  4.05it/s]\n",
      "  0%|          | 0/33 [00:00<?, ?it/s]"
     ]
    },
    {
     "name": "stdout",
     "output_type": "stream",
     "text": [
      "SNR: 7 Weight precision: 4 accuracy: 5.953827460510328\n"
     ]
    },
    {
     "name": "stderr",
     "output_type": "stream",
     "text": [
      "100%|██████████| 33/33 [00:09<00:00,  3.23it/s]\n",
      "  0%|          | 0/33 [00:00<?, ?it/s]"
     ]
    },
    {
     "name": "stdout",
     "output_type": "stream",
     "text": [
      "SNR: 7 Weight precision: 5 accuracy: 7.229647630619684\n"
     ]
    },
    {
     "name": "stderr",
     "output_type": "stream",
     "text": [
      "100%|██████████| 33/33 [00:09<00:00,  3.45it/s]\n",
      "  0%|          | 0/33 [00:00<?, ?it/s]"
     ]
    },
    {
     "name": "stdout",
     "output_type": "stream",
     "text": [
      "SNR: 7 Weight precision: 6 accuracy: 6.8955042527339\n"
     ]
    },
    {
     "name": "stderr",
     "output_type": "stream",
     "text": [
      "100%|██████████| 33/33 [00:08<00:00,  4.03it/s]\n",
      "  0%|          | 0/33 [00:00<?, ?it/s]"
     ]
    },
    {
     "name": "stdout",
     "output_type": "stream",
     "text": [
      "SNR: 7 Weight precision: 7 accuracy: 7.108140947752126\n"
     ]
    },
    {
     "name": "stderr",
     "output_type": "stream",
     "text": [
      "100%|██████████| 33/33 [00:08<00:00,  4.01it/s]\n",
      "  0%|          | 0/33 [00:00<?, ?it/s]"
     ]
    },
    {
     "name": "stdout",
     "output_type": "stream",
     "text": [
      "SNR: 7 Weight precision: 8 accuracy: 6.956257594167679\n"
     ]
    },
    {
     "name": "stderr",
     "output_type": "stream",
     "text": [
      "100%|██████████| 33/33 [00:08<00:00,  3.91it/s]\n",
      "  0%|          | 0/33 [00:00<?, ?it/s]"
     ]
    },
    {
     "name": "stdout",
     "output_type": "stream",
     "text": [
      "SNR: 7 Weight precision: 9 accuracy: 7.320777642770352\n"
     ]
    },
    {
     "name": "stderr",
     "output_type": "stream",
     "text": [
      "100%|██████████| 33/33 [00:08<00:00,  4.01it/s]\n",
      "  0%|          | 0/33 [00:00<?, ?it/s]"
     ]
    },
    {
     "name": "stdout",
     "output_type": "stream",
     "text": [
      "SNR: 6 Weight precision: 1 accuracy: 3.341433778857837\n"
     ]
    },
    {
     "name": "stderr",
     "output_type": "stream",
     "text": [
      "100%|██████████| 33/33 [00:08<00:00,  4.01it/s]\n",
      "  0%|          | 0/33 [00:00<?, ?it/s]"
     ]
    },
    {
     "name": "stdout",
     "output_type": "stream",
     "text": [
      "SNR: 6 Weight precision: 2 accuracy: 5.012150668286756\n"
     ]
    },
    {
     "name": "stderr",
     "output_type": "stream",
     "text": [
      "100%|██████████| 33/33 [00:08<00:00,  3.92it/s]\n",
      "  0%|          | 0/33 [00:00<?, ?it/s]"
     ]
    },
    {
     "name": "stdout",
     "output_type": "stream",
     "text": [
      "SNR: 6 Weight precision: 3 accuracy: 5.194410692588092\n"
     ]
    },
    {
     "name": "stderr",
     "output_type": "stream",
     "text": [
      "100%|██████████| 33/33 [00:10<00:00,  3.24it/s]\n",
      "  0%|          | 0/33 [00:00<?, ?it/s]"
     ]
    },
    {
     "name": "stdout",
     "output_type": "stream",
     "text": [
      "SNR: 6 Weight precision: 4 accuracy: 4.79951397326853\n"
     ]
    },
    {
     "name": "stderr",
     "output_type": "stream",
     "text": [
      "100%|██████████| 33/33 [00:08<00:00,  4.01it/s]\n",
      "  0%|          | 0/33 [00:00<?, ?it/s]"
     ]
    },
    {
     "name": "stdout",
     "output_type": "stream",
     "text": [
      "SNR: 6 Weight precision: 5 accuracy: 6.014580801944107\n"
     ]
    },
    {
     "name": "stderr",
     "output_type": "stream",
     "text": [
      "100%|██████████| 33/33 [00:08<00:00,  4.05it/s]\n",
      "  0%|          | 0/33 [00:00<?, ?it/s]"
     ]
    },
    {
     "name": "stdout",
     "output_type": "stream",
     "text": [
      "SNR: 6 Weight precision: 6 accuracy: 6.4702308626974485\n"
     ]
    },
    {
     "name": "stderr",
     "output_type": "stream",
     "text": [
      "100%|██████████| 33/33 [00:09<00:00,  3.98it/s]\n",
      "  0%|          | 0/33 [00:00<?, ?it/s]"
     ]
    },
    {
     "name": "stdout",
     "output_type": "stream",
     "text": [
      "SNR: 6 Weight precision: 7 accuracy: 5.953827460510328\n"
     ]
    },
    {
     "name": "stderr",
     "output_type": "stream",
     "text": [
      "100%|██████████| 33/33 [00:08<00:00,  4.05it/s]\n",
      "  0%|          | 0/33 [00:00<?, ?it/s]"
     ]
    },
    {
     "name": "stdout",
     "output_type": "stream",
     "text": [
      "SNR: 6 Weight precision: 8 accuracy: 5.498177399756987\n"
     ]
    },
    {
     "name": "stderr",
     "output_type": "stream",
     "text": [
      "100%|██████████| 33/33 [00:08<00:00,  3.98it/s]\n",
      "  0%|          | 0/33 [00:00<?, ?it/s]"
     ]
    },
    {
     "name": "stdout",
     "output_type": "stream",
     "text": [
      "SNR: 6 Weight precision: 9 accuracy: 5.072904009720535\n"
     ]
    },
    {
     "name": "stderr",
     "output_type": "stream",
     "text": [
      "100%|██████████| 33/33 [00:08<00:00,  3.91it/s]\n",
      "  0%|          | 0/33 [00:00<?, ?it/s]"
     ]
    },
    {
     "name": "stdout",
     "output_type": "stream",
     "text": [
      "SNR: 5 Weight precision: 1 accuracy: 3.341433778857837\n"
     ]
    },
    {
     "name": "stderr",
     "output_type": "stream",
     "text": [
      "100%|██████████| 33/33 [00:09<00:00,  3.23it/s]\n",
      "  0%|          | 0/33 [00:00<?, ?it/s]"
     ]
    },
    {
     "name": "stdout",
     "output_type": "stream",
     "text": [
      "SNR: 5 Weight precision: 2 accuracy: 3.402187120291616\n"
     ]
    },
    {
     "name": "stderr",
     "output_type": "stream",
     "text": [
      "100%|██████████| 33/33 [00:08<00:00,  4.02it/s]\n",
      "  0%|          | 0/33 [00:00<?, ?it/s]"
     ]
    },
    {
     "name": "stdout",
     "output_type": "stream",
     "text": [
      "SNR: 5 Weight precision: 3 accuracy: 3.341433778857837\n"
     ]
    },
    {
     "name": "stderr",
     "output_type": "stream",
     "text": [
      "100%|██████████| 33/33 [00:08<00:00,  4.01it/s]\n",
      "  0%|          | 0/33 [00:00<?, ?it/s]"
     ]
    },
    {
     "name": "stdout",
     "output_type": "stream",
     "text": [
      "SNR: 5 Weight precision: 4 accuracy: 3.3718104495747268\n"
     ]
    },
    {
     "name": "stderr",
     "output_type": "stream",
     "text": [
      "100%|██████████| 33/33 [00:08<00:00,  4.03it/s]\n",
      "  0%|          | 0/33 [00:00<?, ?it/s]"
     ]
    },
    {
     "name": "stdout",
     "output_type": "stream",
     "text": [
      "SNR: 5 Weight precision: 5 accuracy: 4.526123936816525\n"
     ]
    },
    {
     "name": "stderr",
     "output_type": "stream",
     "text": [
      "100%|██████████| 33/33 [00:08<00:00,  4.01it/s]\n",
      "  0%|          | 0/33 [00:00<?, ?it/s]"
     ]
    },
    {
     "name": "stdout",
     "output_type": "stream",
     "text": [
      "SNR: 5 Weight precision: 6 accuracy: 4.0097205346294045\n"
     ]
    },
    {
     "name": "stderr",
     "output_type": "stream",
     "text": [
      "100%|██████████| 33/33 [00:08<00:00,  3.98it/s]\n",
      "  0%|          | 0/33 [00:00<?, ?it/s]"
     ]
    },
    {
     "name": "stdout",
     "output_type": "stream",
     "text": [
      "SNR: 5 Weight precision: 7 accuracy: 4.131227217496963\n"
     ]
    },
    {
     "name": "stderr",
     "output_type": "stream",
     "text": [
      "100%|██████████| 33/33 [00:08<00:00,  4.02it/s]\n",
      "  0%|          | 0/33 [00:00<?, ?it/s]"
     ]
    },
    {
     "name": "stdout",
     "output_type": "stream",
     "text": [
      "SNR: 5 Weight precision: 8 accuracy: 3.614823815309842\n"
     ]
    },
    {
     "name": "stderr",
     "output_type": "stream",
     "text": [
      "100%|██████████| 33/33 [00:08<00:00,  4.02it/s]"
     ]
    },
    {
     "name": "stdout",
     "output_type": "stream",
     "text": [
      "SNR: 5 Weight precision: 9 accuracy: 3.5236938031591736\n"
     ]
    },
    {
     "name": "stderr",
     "output_type": "stream",
     "text": [
      "\n"
     ]
    }
   ],
   "source": [
    "acc_precisions = []\n",
    "snr_list = [30,25,20,15,14,13,12,11,10,9,8,7,6,5]\n",
    "# snr_list = [15,14,13,12,11,10]\n",
    "for snr in snr_list: \n",
    "    acc_precision = []\n",
    "    for i,j in enumerate(precision_list):\n",
    "        net_test.rnn.h2h.weight.data = rnn_h2h_w_precision[i]\n",
    "        val_loss, accuracy, prediction, label = test_noise(net_test, DEVICE, test_loader, snr_list=[snr])\n",
    "        acc_precision.append(accuracy)\n",
    "        print(\"SNR:\", snr, \"Weight precision:\", int(np.log(j+1)/np.log(2)), 'accuracy:', accuracy)\n",
    "    acc_precisions.append(acc_precision)"
   ]
  },
  {
   "cell_type": "code",
   "execution_count": 19,
   "metadata": {},
   "outputs": [
    {
     "data": {
      "image/png": "[encoded data removed]",
      "text/plain": [
       "<Figure size 432x288 with 1 Axes>"
      ]
     },
     "metadata": {
      "image/png": {
       "height": 268,
       "width": 395
      },
      "needs_background": "light"
     },
     "output_type": "display_data"
    }
   ],
   "source": [
    "# noise_agg = np.stack(test_noise_acc).reshape(17,13)\n",
    "f = plt.figure(figsize=(6,4))\n",
    "\n",
    "data = []\n",
    "\n",
    "for idx in range(len(snr_list)):\n",
    "    plt.plot([int(np.log(precision_list[i]+1)/np.log(2)) for i in range(len(precision_list))], acc_precisions[idx], 'o--', label='CTRNN @ SNR={}dB'.format(snr_list[idx]))\n",
    "    data.append([snr_list[idx], [int(np.log(precision_list[i]+1)/np.log(2)) for i in range(len(precision_list))], acc_precisions[idx]])\n",
    "#     plt.plot(snr_list, noise_CTRNN[i,:], 'o-', label='CTRNN w/o noise')\n",
    "#     plt.plot(snr_list, noise_CNN_noise[i,:], 'o--', label='CNN w/ noise')\n",
    "#     plt.plot(snr_list, noise_CTRNN_noise[i,:], 'o-', label='CTRNN w/ noise')\n",
    "plt.xlabel('Photonic RNN Weight Precision (Bits)', fontsize=14)\n",
    "plt.ylabel('Accuracy (%)', fontsize=14)\n",
    "# plt.legend()\n",
    "# plt.legend(loc='best', bbox_to_anchor=(1.05, 1))\n",
    "# plt.savefig('61_39')\n",
    "plt.grid(True)\n",
    "plt.show()\n",
    "# f.clear()"
   ]
  },
  {
   "cell_type": "code",
   "execution_count": 394,
   "metadata": {},
   "outputs": [],
   "source": [
    "## save\n",
    "import pickle\n",
    "filename = '61_39'\n",
    "outfile = open(filename,'wb')\n",
    "pickle.dump(data,outfile)\n",
    "outfile.close()"
   ]
  },
  {
   "cell_type": "code",
   "execution_count": 375,
   "metadata": {},
   "outputs": [],
   "source": [
    "## load\n",
    "infile = open(filename,'rb')\n",
    "data_loaded = pickle.load(infile)\n",
    "infile.close()"
   ]
  },
  {
   "cell_type": "code",
   "execution_count": null,
   "metadata": {},
   "outputs": [],
   "source": [
    "## for 60_39, SNR-14, SNR-13, SNR-12, SNR-11 work pretty well\n",
    "\n",
    "## for 61_39, SNR-13 and SNR-12 work well\n",
    "\n",
    "## for 60x_39, SNR-10 work well"
   ]
  },
  {
   "cell_type": "markdown",
   "metadata": {},
   "source": [
    "## Retrain the network with different SNR input data"
   ]
  },
  {
   "cell_type": "code",
   "execution_count": 346,
   "metadata": {},
   "outputs": [],
   "source": [
    "import torch.optim as optim\n",
    "hidden_size = 16\n",
    "# input_size = 64\n",
    "# output_size = 32\n",
    "net = RNNNet(input_size=64, hidden_size=hidden_size, dt=5).to(DEVICE)"
   ]
  },
  {
   "cell_type": "code",
   "execution_count": 347,
   "metadata": {},
   "outputs": [
    {
     "name": "stderr",
     "output_type": "stream",
     "text": [
      "100%|██████████| 270/270 [01:08<00:00,  3.93it/s]\n",
      "100%|██████████| 34/34 [00:10<00:00,  3.31it/s]"
     ]
    },
    {
     "name": "stdout",
     "output_type": "stream",
     "text": [
      "epoch: 1, mean_loss: 2.4855858864607634, dev_loss: 2.2162757740241026, accuracy: 43.4705359786793\n"
     ]
    },
    {
     "name": "stderr",
     "output_type": "stream",
     "text": [
      "\n",
      "100%|██████████| 270/270 [01:09<00:00,  4.23it/s]\n",
      "100%|██████████| 34/34 [00:10<00:00,  3.32it/s]"
     ]
    },
    {
     "name": "stdout",
     "output_type": "stream",
     "text": [
      "epoch: 2, mean_loss: 2.060797761987757, dev_loss: 1.9393547132659812, accuracy: 51.99881551673083\n"
     ]
    },
    {
     "name": "stderr",
     "output_type": "stream",
     "text": [
      "\n",
      "100%|██████████| 270/270 [01:09<00:00,  4.63it/s]\n",
      "100%|██████████| 34/34 [00:08<00:00,  4.10it/s]"
     ]
    },
    {
     "name": "stdout",
     "output_type": "stream",
     "text": [
      "epoch: 3, mean_loss: 1.858653880490197, dev_loss: 1.7973150265156816, accuracy: 61.88925081433225\n"
     ]
    },
    {
     "name": "stderr",
     "output_type": "stream",
     "text": [
      "\n",
      "100%|██████████| 270/270 [01:09<00:00,  3.87it/s]\n",
      "100%|██████████| 34/34 [00:08<00:00,  4.18it/s]"
     ]
    },
    {
     "name": "stdout",
     "output_type": "stream",
     "text": [
      "epoch: 4, mean_loss: 1.7585919389018305, dev_loss: 1.722914575153743, accuracy: 64.9096831507255\n"
     ]
    },
    {
     "name": "stderr",
     "output_type": "stream",
     "text": [
      "\n",
      "100%|██████████| 270/270 [01:11<00:00,  4.71it/s]\n",
      "100%|██████████| 34/34 [00:09<00:00,  4.16it/s]"
     ]
    },
    {
     "name": "stdout",
     "output_type": "stream",
     "text": [
      "epoch: 5, mean_loss: 1.6872354948962176, dev_loss: 1.651582446223997, accuracy: 63.8732602901984\n"
     ]
    },
    {
     "name": "stderr",
     "output_type": "stream",
     "text": [
      "\n",
      "100%|██████████| 270/270 [01:08<00:00,  4.92it/s]\n",
      "100%|██████████| 34/34 [00:08<00:00,  4.13it/s]"
     ]
    },
    {
     "name": "stdout",
     "output_type": "stream",
     "text": [
      "epoch: 6, mean_loss: 1.6332759632004632, dev_loss: 1.623487432997785, accuracy: 69.11459875629257\n"
     ]
    },
    {
     "name": "stderr",
     "output_type": "stream",
     "text": [
      "\n",
      "100%|██████████| 270/270 [01:07<00:00,  4.92it/s]\n",
      "100%|██████████| 34/34 [00:08<00:00,  4.21it/s]"
     ]
    },
    {
     "name": "stdout",
     "output_type": "stream",
     "text": [
      "epoch: 7, mean_loss: 1.5892660057103192, dev_loss: 1.5654112838731562, accuracy: 67.66360675155464\n"
     ]
    },
    {
     "name": "stderr",
     "output_type": "stream",
     "text": [
      "\n",
      "100%|██████████| 270/270 [01:08<00:00,  3.92it/s]\n",
      "100%|██████████| 34/34 [00:08<00:00,  4.13it/s]"
     ]
    },
    {
     "name": "stdout",
     "output_type": "stream",
     "text": [
      "epoch: 8, mean_loss: 1.550622570956195, dev_loss: 1.5296824457802856, accuracy: 71.57240153982825\n"
     ]
    },
    {
     "name": "stderr",
     "output_type": "stream",
     "text": [
      "\n",
      "100%|██████████| 270/270 [01:08<00:00,  3.95it/s]\n",
      "100%|██████████| 34/34 [00:08<00:00,  4.21it/s]"
     ]
    },
    {
     "name": "stdout",
     "output_type": "stream",
     "text": [
      "epoch: 9, mean_loss: 1.5205620871649848, dev_loss: 1.5023661684912268, accuracy: 68.90731418418714\n"
     ]
    },
    {
     "name": "stderr",
     "output_type": "stream",
     "text": [
      "\n",
      "100%|██████████| 270/270 [01:07<00:00,  4.36it/s]\n",
      "100%|██████████| 34/34 [00:08<00:00,  4.17it/s]"
     ]
    },
    {
     "name": "stdout",
     "output_type": "stream",
     "text": [
      "epoch: 10, mean_loss: 1.4888504536063583, dev_loss: 1.4788017374614233, accuracy: 66.44951140065146\n"
     ]
    },
    {
     "name": "stderr",
     "output_type": "stream",
     "text": [
      "\n",
      "100%|██████████| 270/270 [01:08<00:00,  4.89it/s]\n",
      "100%|██████████| 34/34 [00:09<00:00,  3.81it/s]"
     ]
    },
    {
     "name": "stdout",
     "output_type": "stream",
     "text": [
      "epoch: 11, mean_loss: 1.4608519779311286, dev_loss: 1.4443896776266554, accuracy: 71.48356529464021\n"
     ]
    },
    {
     "name": "stderr",
     "output_type": "stream",
     "text": [
      "\n",
      "100%|██████████| 270/270 [01:09<00:00,  3.88it/s]\n",
      "100%|██████████| 34/34 [00:10<00:00,  3.33it/s]"
     ]
    },
    {
     "name": "stdout",
     "output_type": "stream",
     "text": [
      "epoch: 12, mean_loss: 1.4396940602196588, dev_loss: 1.4288746373767078, accuracy: 71.72046194847498\n"
     ]
    },
    {
     "name": "stderr",
     "output_type": "stream",
     "text": [
      "\n",
      "100%|██████████| 270/270 [01:09<00:00,  4.50it/s]\n",
      "100%|██████████| 34/34 [00:09<00:00,  3.56it/s]"
     ]
    },
    {
     "name": "stdout",
     "output_type": "stream",
     "text": [
      "epoch: 13, mean_loss: 1.4149718902729176, dev_loss: 1.4078464462872189, accuracy: 74.14865265028132\n"
     ]
    },
    {
     "name": "stderr",
     "output_type": "stream",
     "text": [
      "\n",
      "100%|██████████| 270/270 [01:08<00:00,  3.93it/s]\n",
      "100%|██████████| 34/34 [00:08<00:00,  4.12it/s]"
     ]
    },
    {
     "name": "stdout",
     "output_type": "stream",
     "text": [
      "epoch: 14, mean_loss: 1.3983092829033181, dev_loss: 1.397371540063932, accuracy: 73.34912644358899\n"
     ]
    },
    {
     "name": "stderr",
     "output_type": "stream",
     "text": [
      "\n",
      "100%|██████████| 270/270 [01:08<00:00,  3.92it/s]\n",
      "100%|██████████| 34/34 [00:08<00:00,  3.45it/s]"
     ]
    },
    {
     "name": "stdout",
     "output_type": "stream",
     "text": [
      "epoch: 15, mean_loss: 1.3736099234333745, dev_loss: 1.383275317552706, accuracy: 67.27864968907315\n"
     ]
    },
    {
     "name": "stderr",
     "output_type": "stream",
     "text": [
      "\n",
      "100%|██████████| 270/270 [01:06<00:00,  3.82it/s]\n",
      "100%|██████████| 34/34 [00:10<00:00,  3.38it/s]"
     ]
    },
    {
     "name": "stdout",
     "output_type": "stream",
     "text": [
      "epoch: 16, mean_loss: 1.358265382272226, dev_loss: 1.3373531881506922, accuracy: 73.70447142434114\n"
     ]
    },
    {
     "name": "stderr",
     "output_type": "stream",
     "text": [
      "\n",
      "100%|██████████| 270/270 [01:08<00:00,  3.92it/s]\n",
      "100%|██████████| 34/34 [00:09<00:00,  4.27it/s]"
     ]
    },
    {
     "name": "stdout",
     "output_type": "stream",
     "text": [
      "epoch: 17, mean_loss: 1.3411222338676452, dev_loss: 1.3131618646605325, accuracy: 77.37636955877998\n"
     ]
    },
    {
     "name": "stderr",
     "output_type": "stream",
     "text": [
      "\n",
      "100%|██████████| 270/270 [01:07<00:00,  4.33it/s]\n",
      "100%|██████████| 34/34 [00:10<00:00,  3.37it/s]"
     ]
    },
    {
     "name": "stdout",
     "output_type": "stream",
     "text": [
      "epoch: 19, mean_loss: 1.3091849353578355, dev_loss: 1.3066779744670982, accuracy: 79.74533609712763\n"
     ]
    },
    {
     "name": "stderr",
     "output_type": "stream",
     "text": [
      "\n",
      "100%|██████████| 270/270 [01:09<00:00,  3.86it/s]\n",
      "100%|██████████| 34/34 [00:08<00:00,  4.00it/s]"
     ]
    },
    {
     "name": "stdout",
     "output_type": "stream",
     "text": [
      "epoch: 20, mean_loss: 1.2989275340680724, dev_loss: 1.283281951816187, accuracy: 79.71572401539828\n"
     ]
    },
    {
     "name": "stderr",
     "output_type": "stream",
     "text": [
      "\n",
      "100%|██████████| 270/270 [01:07<00:00,  4.75it/s]\n",
      "100%|██████████| 34/34 [00:08<00:00,  4.16it/s]"
     ]
    },
    {
     "name": "stdout",
     "output_type": "stream",
     "text": [
      "epoch: 21, mean_loss: 1.2790087306940998, dev_loss: 1.2567125175844327, accuracy: 79.74533609712763\n"
     ]
    },
    {
     "name": "stderr",
     "output_type": "stream",
     "text": [
      "\n",
      "100%|██████████| 270/270 [01:08<00:00,  4.83it/s]\n",
      "100%|██████████| 34/34 [00:08<00:00,  4.17it/s]"
     ]
    },
    {
     "name": "stdout",
     "output_type": "stream",
     "text": [
      "epoch: 22, mean_loss: 1.2693451139662, dev_loss: 1.268793991694339, accuracy: 77.28753331359195\n"
     ]
    },
    {
     "name": "stderr",
     "output_type": "stream",
     "text": [
      "\n",
      "100%|██████████| 270/270 [01:08<00:00,  3.97it/s]\n",
      "100%|██████████| 34/34 [00:08<00:00,  4.11it/s]"
     ]
    },
    {
     "name": "stdout",
     "output_type": "stream",
     "text": [
      "epoch: 23, mean_loss: 1.2617283436987135, dev_loss: 1.253396356462338, accuracy: 79.50843944329286\n"
     ]
    },
    {
     "name": "stderr",
     "output_type": "stream",
     "text": [
      "\n",
      "100%|██████████| 270/270 [01:08<00:00,  3.95it/s]\n",
      "100%|██████████| 34/34 [00:08<00:00,  4.21it/s]"
     ]
    },
    {
     "name": "stdout",
     "output_type": "stream",
     "text": [
      "epoch: 25, mean_loss: 1.2393140187969913, dev_loss: 1.239291301520576, accuracy: 77.99822327509624\n"
     ]
    },
    {
     "name": "stderr",
     "output_type": "stream",
     "text": [
      "\n",
      "100%|██████████| 270/270 [01:09<00:00,  4.39it/s]\n",
      "100%|██████████| 34/34 [00:10<00:00,  3.42it/s]"
     ]
    },
    {
     "name": "stdout",
     "output_type": "stream",
     "text": [
      "epoch: 26, mean_loss: 1.2219799982176887, dev_loss: 1.213903555334903, accuracy: 78.59046490968315\n"
     ]
    },
    {
     "name": "stderr",
     "output_type": "stream",
     "text": [
      "\n",
      "100%|██████████| 270/270 [01:08<00:00,  4.58it/s]\n",
      "100%|██████████| 34/34 [00:10<00:00,  3.37it/s]"
     ]
    },
    {
     "name": "stdout",
     "output_type": "stream",
     "text": [
      "epoch: 27, mean_loss: 1.2105190400724057, dev_loss: 1.2522734646829656, accuracy: 74.2671009771987\n"
     ]
    },
    {
     "name": "stderr",
     "output_type": "stream",
     "text": [
      "\n",
      "100%|██████████| 270/270 [01:07<00:00,  3.97it/s]\n",
      "100%|██████████| 34/34 [00:08<00:00,  4.25it/s]"
     ]
    },
    {
     "name": "stdout",
     "output_type": "stream",
     "text": [
      "epoch: 28, mean_loss: 1.2030278589990404, dev_loss: 1.194268422611091, accuracy: 80.51525022209061\n"
     ]
    },
    {
     "name": "stderr",
     "output_type": "stream",
     "text": [
      "\n",
      "100%|██████████| 270/270 [01:09<00:00,  4.74it/s]\n",
      "100%|██████████| 34/34 [00:08<00:00,  4.11it/s]"
     ]
    },
    {
     "name": "stdout",
     "output_type": "stream",
     "text": [
      "epoch: 29, mean_loss: 1.1994906182642335, dev_loss: 1.179025372422444, accuracy: 82.46964761622742\n"
     ]
    },
    {
     "name": "stderr",
     "output_type": "stream",
     "text": [
      "\n",
      "100%|██████████| 270/270 [01:06<00:00,  4.55it/s]\n",
      "100%|██████████| 34/34 [00:09<00:00,  4.22it/s]"
     ]
    },
    {
     "name": "stdout",
     "output_type": "stream",
     "text": [
      "epoch: 30, mean_loss: 1.1883195576844392, dev_loss: 1.2650975138963876, accuracy: 72.72727272727273\n"
     ]
    },
    {
     "name": "stderr",
     "output_type": "stream",
     "text": [
      "\n",
      "100%|██████████| 270/270 [01:09<00:00,  3.87it/s]\n",
      "100%|██████████| 34/34 [00:08<00:00,  4.16it/s]"
     ]
    },
    {
     "name": "stdout",
     "output_type": "stream",
     "text": [
      "epoch: 31, mean_loss: 1.172460714534477, dev_loss: 1.182870599691918, accuracy: 79.50843944329286\n"
     ]
    },
    {
     "name": "stderr",
     "output_type": "stream",
     "text": [
      "\n",
      "100%|██████████| 270/270 [01:07<00:00,  4.96it/s]\n",
      "100%|██████████| 34/34 [00:09<00:00,  4.15it/s]"
     ]
    },
    {
     "name": "stdout",
     "output_type": "stream",
     "text": [
      "epoch: 32, mean_loss: 1.1687760887322602, dev_loss: 1.1519602554452324, accuracy: 82.17352679893396\n"
     ]
    },
    {
     "name": "stderr",
     "output_type": "stream",
     "text": [
      "\n",
      "100%|██████████| 270/270 [01:08<00:00,  4.93it/s]\n",
      "100%|██████████| 34/34 [00:08<00:00,  4.15it/s]"
     ]
    },
    {
     "name": "stdout",
     "output_type": "stream",
     "text": [
      "epoch: 33, mean_loss: 1.161802003339485, dev_loss: 1.1739493317246825, accuracy: 78.11667160201362\n"
     ]
    },
    {
     "name": "stderr",
     "output_type": "stream",
     "text": [
      "\n",
      "100%|██████████| 270/270 [01:08<00:00,  4.94it/s]\n",
      "100%|██████████| 34/34 [00:10<00:00,  3.38it/s]"
     ]
    },
    {
     "name": "stdout",
     "output_type": "stream",
     "text": [
      "epoch: 35, mean_loss: 1.1441313794365635, dev_loss: 1.1371008604985566, accuracy: 82.11430263547527\n"
     ]
    },
    {
     "name": "stderr",
     "output_type": "stream",
     "text": [
      "\n",
      "100%|██████████| 270/270 [01:07<00:00,  4.55it/s]\n",
      "100%|██████████| 34/34 [00:08<00:00,  4.17it/s]"
     ]
    },
    {
     "name": "stdout",
     "output_type": "stream",
     "text": [
      "epoch: 36, mean_loss: 1.1390306108527712, dev_loss: 1.1429125238248572, accuracy: 83.53568255848386\n"
     ]
    },
    {
     "name": "stderr",
     "output_type": "stream",
     "text": [
      "\n",
      "100%|██████████| 270/270 [01:06<00:00,  4.03it/s]\n",
      "100%|██████████| 34/34 [00:08<00:00,  4.28it/s]"
     ]
    },
    {
     "name": "stdout",
     "output_type": "stream",
     "text": [
      "epoch: 37, mean_loss: 1.135092079418677, dev_loss: 1.109272531267098, accuracy: 81.9366301450992\n"
     ]
    },
    {
     "name": "stderr",
     "output_type": "stream",
     "text": [
      "\n",
      "100%|██████████| 270/270 [01:06<00:00,  4.07it/s]\n",
      "100%|██████████| 34/34 [00:08<00:00,  4.20it/s]"
     ]
    },
    {
     "name": "stdout",
     "output_type": "stream",
     "text": [
      "epoch: 38, mean_loss: 1.1219342560679824, dev_loss: 1.1117941865138765, accuracy: 81.9366301450992\n"
     ]
    },
    {
     "name": "stderr",
     "output_type": "stream",
     "text": [
      "\n",
      "100%|██████████| 270/270 [01:08<00:00,  4.88it/s]\n",
      "100%|██████████| 34/34 [00:08<00:00,  4.14it/s]"
     ]
    },
    {
     "name": "stdout",
     "output_type": "stream",
     "text": [
      "epoch: 39, mean_loss: 1.1188044841642732, dev_loss: 1.1206618984810939, accuracy: 80.98904352976014\n"
     ]
    },
    {
     "name": "stderr",
     "output_type": "stream",
     "text": [
      "\n",
      "100%|██████████| 270/270 [01:08<00:00,  3.95it/s]\n",
      "100%|██████████| 34/34 [00:08<00:00,  3.83it/s]"
     ]
    },
    {
     "name": "stdout",
     "output_type": "stream",
     "text": [
      "epoch: 40, mean_loss: 1.1084228292659477, dev_loss: 1.1233760934275638, accuracy: 83.80219129404797\n"
     ]
    },
    {
     "name": "stderr",
     "output_type": "stream",
     "text": [
      "\n",
      "100%|██████████| 270/270 [01:10<00:00,  5.06it/s]\n",
      "100%|██████████| 34/34 [00:08<00:00,  4.22it/s]"
     ]
    },
    {
     "name": "stdout",
     "output_type": "stream",
     "text": [
      "epoch: 41, mean_loss: 1.1019611709647708, dev_loss: 1.130135253226224, accuracy: 79.36037903464613\n"
     ]
    },
    {
     "name": "stderr",
     "output_type": "stream",
     "text": [
      "\n",
      "100%|██████████| 270/270 [01:09<00:00,  5.15it/s]\n",
      "100%|██████████| 34/34 [00:08<00:00,  3.65it/s]"
     ]
    },
    {
     "name": "stdout",
     "output_type": "stream",
     "text": [
      "epoch: 42, mean_loss: 1.10058411249408, dev_loss: 1.1099154805868803, accuracy: 84.89783831803376\n"
     ]
    },
    {
     "name": "stderr",
     "output_type": "stream",
     "text": [
      "\n",
      "100%|██████████| 270/270 [01:10<00:00,  4.12it/s]\n",
      "100%|██████████| 34/34 [00:09<00:00,  3.38it/s]"
     ]
    },
    {
     "name": "stdout",
     "output_type": "stream",
     "text": [
      "epoch: 43, mean_loss: 1.0949049572149911, dev_loss: 1.1180055746497013, accuracy: 76.69529167900504\n"
     ]
    },
    {
     "name": "stderr",
     "output_type": "stream",
     "text": [
      "\n",
      "100%|██████████| 270/270 [01:08<00:00,  4.82it/s]\n",
      "100%|██████████| 34/34 [00:09<00:00,  4.24it/s]"
     ]
    },
    {
     "name": "stdout",
     "output_type": "stream",
     "text": [
      "epoch: 44, mean_loss: 1.0885695506025244, dev_loss: 1.0890982388955868, accuracy: 84.48326917382292\n"
     ]
    },
    {
     "name": "stderr",
     "output_type": "stream",
     "text": [
      "\n",
      " 23%|██▎       | 63/270 [00:16<01:01,  3.37it/s]IOPub message rate exceeded.\n",
      "The notebook server will temporarily stop sending output\n",
      "to the client in order to avoid crashing it.\n",
      "To change this limit, set the config variable\n",
      "`--NotebookApp.iopub_msg_rate_limit`.\n",
      "\n",
      "Current values:\n",
      "NotebookApp.iopub_msg_rate_limit=1000.0 (msgs/sec)\n",
      "NotebookApp.rate_limit_window=3.0 (secs)\n",
      "\n",
      "100%|██████████| 270/270 [01:09<00:00,  4.62it/s]\n",
      "100%|██████████| 34/34 [00:10<00:00,  3.37it/s]"
     ]
    },
    {
     "name": "stdout",
     "output_type": "stream",
     "text": [
      "epoch: 52, mean_loss: 1.0405846202815021, dev_loss: 1.0446724946731147, accuracy: 84.9866745632218\n"
     ]
    },
    {
     "name": "stderr",
     "output_type": "stream",
     "text": [
      "\n",
      "100%|██████████| 270/270 [01:08<00:00,  5.32it/s]\n",
      "100%|██████████| 34/34 [00:10<00:00,  3.39it/s]"
     ]
    },
    {
     "name": "stdout",
     "output_type": "stream",
     "text": [
      "epoch: 53, mean_loss: 1.0395618323926572, dev_loss: 1.0160915334089853, accuracy: 88.03671898134439\n"
     ]
    },
    {
     "name": "stderr",
     "output_type": "stream",
     "text": [
      "\n",
      "100%|██████████| 270/270 [01:09<00:00,  3.88it/s]\n",
      "100%|██████████| 34/34 [00:10<00:00,  3.38it/s]"
     ]
    },
    {
     "name": "stdout",
     "output_type": "stream",
     "text": [
      "epoch: 54, mean_loss: 1.0388037818449516, dev_loss: 1.0206753786124878, accuracy: 82.29197512585135\n"
     ]
    },
    {
     "name": "stderr",
     "output_type": "stream",
     "text": [
      "\n",
      "100%|██████████| 270/270 [01:07<00:00,  5.06it/s]\n",
      "100%|██████████| 34/34 [00:08<00:00,  4.27it/s]"
     ]
    },
    {
     "name": "stdout",
     "output_type": "stream",
     "text": [
      "epoch: 55, mean_loss: 1.028582133628704, dev_loss: 1.0229043990223585, accuracy: 84.80900207284571\n"
     ]
    },
    {
     "name": "stderr",
     "output_type": "stream",
     "text": [
      "\n",
      "100%|██████████| 270/270 [01:08<00:00,  4.56it/s]\n",
      "100%|██████████| 34/34 [00:08<00:00,  4.20it/s]"
     ]
    },
    {
     "name": "stdout",
     "output_type": "stream",
     "text": [
      "epoch: 56, mean_loss: 1.0184352267671515, dev_loss: 1.0215899018730183, accuracy: 82.73615635179154\n"
     ]
    },
    {
     "name": "stderr",
     "output_type": "stream",
     "text": [
      "\n",
      "100%|██████████| 270/270 [01:09<00:00,  4.49it/s]\n",
      "100%|██████████| 34/34 [00:10<00:00,  3.40it/s]"
     ]
    },
    {
     "name": "stdout",
     "output_type": "stream",
     "text": [
      "epoch: 58, mean_loss: 1.01149246957567, dev_loss: 0.9927363161296578, accuracy: 89.51732306781167\n"
     ]
    },
    {
     "name": "stderr",
     "output_type": "stream",
     "text": [
      "\n",
      "100%|██████████| 270/270 [01:11<00:00,  4.21it/s]\n",
      "100%|██████████| 34/34 [00:09<00:00,  4.17it/s]"
     ]
    },
    {
     "name": "stdout",
     "output_type": "stream",
     "text": [
      "epoch: 59, mean_loss: 1.0073955683796494, dev_loss: 1.0038654612901827, accuracy: 85.78620076991413\n"
     ]
    },
    {
     "name": "stderr",
     "output_type": "stream",
     "text": [
      "\n",
      "100%|██████████| 270/270 [01:09<00:00,  3.90it/s]\n",
      "100%|██████████| 34/34 [00:09<00:00,  4.25it/s]"
     ]
    },
    {
     "name": "stdout",
     "output_type": "stream",
     "text": [
      "epoch: 60, mean_loss: 1.0102103588757692, dev_loss: 1.0302831846332634, accuracy: 84.09831211134143\n"
     ]
    },
    {
     "name": "stderr",
     "output_type": "stream",
     "text": [
      "\n",
      "100%|██████████| 270/270 [01:07<00:00,  4.70it/s]\n",
      "100%|██████████| 34/34 [00:08<00:00,  4.03it/s]"
     ]
    },
    {
     "name": "stdout",
     "output_type": "stream",
     "text": [
      "epoch: 61, mean_loss: 0.9939770917097728, dev_loss: 0.9966026491267391, accuracy: 82.08469055374593\n"
     ]
    },
    {
     "name": "stderr",
     "output_type": "stream",
     "text": [
      "\n",
      "100%|██████████| 270/270 [01:10<00:00,  3.81it/s]\n",
      "100%|██████████| 34/34 [00:08<00:00,  4.11it/s]"
     ]
    },
    {
     "name": "stdout",
     "output_type": "stream",
     "text": [
      "epoch: 62, mean_loss: 0.9931236845475656, dev_loss: 1.0081129259070525, accuracy: 86.6153390583358\n"
     ]
    },
    {
     "name": "stderr",
     "output_type": "stream",
     "text": [
      "\n",
      "100%|██████████| 270/270 [01:09<00:00,  4.49it/s]\n",
      "100%|██████████| 34/34 [00:08<00:00,  4.26it/s]"
     ]
    },
    {
     "name": "stdout",
     "output_type": "stream",
     "text": [
      "epoch: 63, mean_loss: 0.9938246261190485, dev_loss: 0.9599999466484597, accuracy: 89.84305596683447\n"
     ]
    },
    {
     "name": "stderr",
     "output_type": "stream",
     "text": [
      "\n",
      "100%|██████████| 270/270 [01:09<00:00,  3.86it/s]\n",
      "100%|██████████| 34/34 [00:10<00:00,  3.54it/s]"
     ]
    },
    {
     "name": "stdout",
     "output_type": "stream",
     "text": [
      "epoch: 64, mean_loss: 0.9831792871157329, dev_loss: 0.9794442524456717, accuracy: 85.13473497186853\n"
     ]
    },
    {
     "name": "stderr",
     "output_type": "stream",
     "text": [
      "\n",
      "100%|██████████| 270/270 [01:09<00:00,  3.90it/s]\n",
      "100%|██████████| 34/34 [00:08<00:00,  4.24it/s]"
     ]
    },
    {
     "name": "stdout",
     "output_type": "stream",
     "text": [
      "epoch: 65, mean_loss: 0.9776678612938634, dev_loss: 1.030333220482155, accuracy: 80.13029315960912\n"
     ]
    },
    {
     "name": "stderr",
     "output_type": "stream",
     "text": [
      "\n",
      "100%|██████████| 270/270 [01:09<00:00,  4.20it/s]\n",
      "100%|██████████| 34/34 [00:08<00:00,  4.21it/s]"
     ]
    },
    {
     "name": "stdout",
     "output_type": "stream",
     "text": [
      "epoch: 67, mean_loss: 0.9741921104766704, dev_loss: 0.9577477872812928, accuracy: 85.78620076991413\n"
     ]
    },
    {
     "name": "stderr",
     "output_type": "stream",
     "text": [
      "\n",
      "100%|██████████| 270/270 [01:10<00:00,  4.70it/s]\n",
      "100%|██████████| 34/34 [00:10<00:00,  3.39it/s]"
     ]
    },
    {
     "name": "stdout",
     "output_type": "stream",
     "text": [
      "epoch: 68, mean_loss: 0.9680564421194571, dev_loss: 0.987363319125866, accuracy: 85.3124074622446\n"
     ]
    },
    {
     "name": "stderr",
     "output_type": "stream",
     "text": [
      "\n",
      "100%|██████████| 270/270 [01:10<00:00,  3.85it/s]\n",
      "100%|██████████| 34/34 [00:08<00:00,  4.20it/s]"
     ]
    },
    {
     "name": "stdout",
     "output_type": "stream",
     "text": [
      "epoch: 69, mean_loss: 0.9600435811060446, dev_loss: 0.9589696202999677, accuracy: 85.87503701510217\n"
     ]
    },
    {
     "name": "stderr",
     "output_type": "stream",
     "text": [
      "\n",
      "100%|██████████| 270/270 [01:10<00:00,  4.03it/s]\n",
      "100%|██████████| 34/34 [00:08<00:00,  4.25it/s]"
     ]
    },
    {
     "name": "stdout",
     "output_type": "stream",
     "text": [
      "epoch: 70, mean_loss: 0.9581286079353757, dev_loss: 0.9561965901152001, accuracy: 89.31003849570625\n"
     ]
    },
    {
     "name": "stderr",
     "output_type": "stream",
     "text": [
      "\n",
      "100%|██████████| 270/270 [01:09<00:00,  3.88it/s]\n",
      "100%|██████████| 34/34 [00:09<00:00,  4.15it/s]"
     ]
    },
    {
     "name": "stdout",
     "output_type": "stream",
     "text": [
      "epoch: 71, mean_loss: 0.9550350590988442, dev_loss: 0.9437656433652201, accuracy: 87.44447734675748\n"
     ]
    },
    {
     "name": "stderr",
     "output_type": "stream",
     "text": [
      "\n",
      "100%|██████████| 270/270 [01:09<00:00,  4.43it/s]\n",
      "100%|██████████| 34/34 [00:08<00:00,  4.26it/s]"
     ]
    },
    {
     "name": "stdout",
     "output_type": "stream",
     "text": [
      "epoch: 72, mean_loss: 0.9511041932635838, dev_loss: 0.9984272245051842, accuracy: 85.78620076991413\n"
     ]
    },
    {
     "name": "stderr",
     "output_type": "stream",
     "text": [
      "\n",
      "100%|██████████| 270/270 [01:10<00:00,  3.82it/s]\n",
      "100%|██████████| 34/34 [00:10<00:00,  3.41it/s]"
     ]
    },
    {
     "name": "stdout",
     "output_type": "stream",
     "text": [
      "epoch: 73, mean_loss: 0.9491862937256142, dev_loss: 0.9661013758108394, accuracy: 84.95706248149244\n"
     ]
    },
    {
     "name": "stderr",
     "output_type": "stream",
     "text": [
      "\n",
      "\r\n",
      "  0%|          | 0/270 [00:00<?, ?it/s]"
     ]
    },
    {
     "name": "stdout",
     "output_type": "stream",
     "text": [
      "patience: 1 learning rate: 0.00025\n"
     ]
    },
    {
     "name": "stderr",
     "output_type": "stream",
     "text": [
      "100%|██████████| 270/270 [01:09<00:00,  4.52it/s]\n",
      "100%|██████████| 34/34 [00:08<00:00,  4.28it/s]"
     ]
    },
    {
     "name": "stdout",
     "output_type": "stream",
     "text": [
      "epoch: 74, mean_loss: 0.930011468021958, dev_loss: 0.9215312722804527, accuracy: 90.58335801006811\n"
     ]
    },
    {
     "name": "stderr",
     "output_type": "stream",
     "text": [
      "\n",
      "100%|██████████| 270/270 [01:09<00:00,  4.27it/s]\n",
      "100%|██████████| 34/34 [00:10<00:00,  3.42it/s]"
     ]
    },
    {
     "name": "stdout",
     "output_type": "stream",
     "text": [
      "epoch: 75, mean_loss: 0.9233944764843693, dev_loss: 0.9119079492132375, accuracy: 90.13917678412793\n"
     ]
    },
    {
     "name": "stderr",
     "output_type": "stream",
     "text": [
      "\n",
      "100%|██████████| 270/270 [01:08<00:00,  4.48it/s]\n",
      "100%|██████████| 34/34 [00:09<00:00,  4.18it/s]"
     ]
    },
    {
     "name": "stdout",
     "output_type": "stream",
     "text": [
      "epoch: 83, mean_loss: 0.9048741294278039, dev_loss: 0.8940551931207831, accuracy: 91.32366005330175\n"
     ]
    },
    {
     "name": "stderr",
     "output_type": "stream",
     "text": [
      "\n",
      "100%|██████████| 270/270 [01:08<00:00,  3.93it/s]\n",
      "100%|██████████| 34/34 [00:10<00:00,  3.38it/s]"
     ]
    },
    {
     "name": "stdout",
     "output_type": "stream",
     "text": [
      "epoch: 84, mean_loss: 0.9023633793548301, dev_loss: 0.8992763361988739, accuracy: 90.9683150725496\n"
     ]
    },
    {
     "name": "stderr",
     "output_type": "stream",
     "text": [
      "\n",
      "100%|██████████| 270/270 [01:09<00:00,  3.88it/s]\n",
      "100%|██████████| 34/34 [00:08<00:00,  4.17it/s]"
     ]
    },
    {
     "name": "stdout",
     "output_type": "stream",
     "text": [
      "epoch: 85, mean_loss: 0.8982920801198041, dev_loss: 0.9050589551013498, accuracy: 88.33283979863785\n"
     ]
    },
    {
     "name": "stderr",
     "output_type": "stream",
     "text": [
      "\n",
      "100%|██████████| 270/270 [01:07<00:00,  4.16it/s]\n",
      "100%|██████████| 34/34 [00:08<00:00,  4.28it/s]"
     ]
    },
    {
     "name": "stdout",
     "output_type": "stream",
     "text": [
      "epoch: 86, mean_loss: 0.8982620563771989, dev_loss: 0.8978919587546211, accuracy: 90.79064258217353\n"
     ]
    },
    {
     "name": "stderr",
     "output_type": "stream",
     "text": [
      "\n",
      "\r\n",
      "  0%|          | 0/270 [00:00<?, ?it/s]"
     ]
    },
    {
     "name": "stdout",
     "output_type": "stream",
     "text": [
      "patience: 2 learning rate: 0.000125\n"
     ]
    },
    {
     "name": "stderr",
     "output_type": "stream",
     "text": [
      "100%|██████████| 270/270 [01:07<00:00,  4.70it/s]\n",
      "100%|██████████| 34/34 [00:10<00:00,  3.39it/s]"
     ]
    },
    {
     "name": "stdout",
     "output_type": "stream",
     "text": [
      "epoch: 87, mean_loss: 0.887181094399205, dev_loss: 0.8799201952906307, accuracy: 92.30085875037015\n"
     ]
    },
    {
     "name": "stderr",
     "output_type": "stream",
     "text": [
      "\n",
      "100%|██████████| 270/270 [01:09<00:00,  3.90it/s]\n",
      "100%|██████████| 34/34 [00:08<00:00,  4.24it/s]"
     ]
    },
    {
     "name": "stdout",
     "output_type": "stream",
     "text": [
      "epoch: 88, mean_loss: 0.8874882294072045, dev_loss: 0.8863784680184367, accuracy: 91.2940479715724\n"
     ]
    },
    {
     "name": "stderr",
     "output_type": "stream",
     "text": [
      "\n",
      "100%|██████████| 270/270 [01:06<00:00,  4.71it/s]\n",
      "100%|██████████| 270/270 [01:08<00:00,  3.92it/s]\n",
      "100%|██████████| 34/34 [00:10<00:00,  3.39it/s]"
     ]
    },
    {
     "name": "stdout",
     "output_type": "stream",
     "text": [
      "epoch: 91, mean_loss: 0.8828805082374149, dev_loss: 0.8791369956945363, accuracy: 91.56055670713651\n"
     ]
    },
    {
     "name": "stderr",
     "output_type": "stream",
     "text": [
      "\n",
      "100%|██████████| 270/270 [01:07<00:00,  4.27it/s]\n",
      "100%|██████████| 34/34 [00:08<00:00,  4.01it/s]"
     ]
    },
    {
     "name": "stdout",
     "output_type": "stream",
     "text": [
      "epoch: 92, mean_loss: 0.8803380303912692, dev_loss: 0.8761105712504298, accuracy: 91.85667752442997\n"
     ]
    },
    {
     "name": "stderr",
     "output_type": "stream",
     "text": [
      "\n",
      "100%|██████████| 270/270 [01:09<00:00,  3.88it/s]\n",
      "100%|██████████| 34/34 [00:08<00:00,  4.26it/s]"
     ]
    },
    {
     "name": "stdout",
     "output_type": "stream",
     "text": [
      "epoch: 93, mean_loss: 0.8792442034792017, dev_loss: 0.8755917657858385, accuracy: 92.0047379330767\n"
     ]
    },
    {
     "name": "stderr",
     "output_type": "stream",
     "text": [
      "\n",
      "100%|██████████| 270/270 [01:09<00:00,  4.96it/s]\n",
      "100%|██████████| 34/34 [00:09<00:00,  4.12it/s]"
     ]
    },
    {
     "name": "stdout",
     "output_type": "stream",
     "text": [
      "epoch: 94, mean_loss: 0.8796521926367724, dev_loss: 0.8721555766884237, accuracy: 91.97512585134734\n"
     ]
    },
    {
     "name": "stderr",
     "output_type": "stream",
     "text": [
      "\n",
      "100%|██████████| 270/270 [01:09<00:00,  3.86it/s]\n",
      "100%|██████████| 34/34 [00:08<00:00,  4.27it/s]"
     ]
    },
    {
     "name": "stdout",
     "output_type": "stream",
     "text": [
      "epoch: 95, mean_loss: 0.8803040431605444, dev_loss: 0.8732900619506836, accuracy: 91.0275392360083\n"
     ]
    },
    {
     "name": "stderr",
     "output_type": "stream",
     "text": [
      "\n",
      "100%|██████████| 270/270 [01:08<00:00,  4.91it/s]\n",
      "100%|██████████| 34/34 [00:10<00:00,  3.39it/s]"
     ]
    },
    {
     "name": "stdout",
     "output_type": "stream",
     "text": [
      "epoch: 96, mean_loss: 0.8762132770485348, dev_loss: 0.8667978374852843, accuracy: 92.44891915901688\n"
     ]
    },
    {
     "name": "stderr",
     "output_type": "stream",
     "text": [
      "\n",
      "100%|██████████| 270/270 [01:07<00:00,  4.01it/s]\n",
      "100%|██████████| 34/34 [00:08<00:00,  4.28it/s]"
     ]
    },
    {
     "name": "stdout",
     "output_type": "stream",
     "text": [
      "epoch: 97, mean_loss: 0.8747533972616549, dev_loss: 0.8727662845020786, accuracy: 91.91590168788866\n"
     ]
    },
    {
     "name": "stderr",
     "output_type": "stream",
     "text": [
      "\n",
      "100%|██████████| 270/270 [01:09<00:00,  4.59it/s]\n",
      "100%|██████████| 34/34 [00:08<00:00,  4.25it/s]"
     ]
    },
    {
     "name": "stdout",
     "output_type": "stream",
     "text": [
      "epoch: 98, mean_loss: 0.8742011282179091, dev_loss: 0.8732536420124608, accuracy: 92.6562037311223\n"
     ]
    },
    {
     "name": "stderr",
     "output_type": "stream",
     "text": [
      "\n",
      "100%|██████████| 270/270 [01:08<00:00,  3.92it/s]\n",
      "100%|██████████| 34/34 [00:08<00:00,  3.87it/s]"
     ]
    },
    {
     "name": "stdout",
     "output_type": "stream",
     "text": [
      "epoch: 99, mean_loss: 0.8730052446877515, dev_loss: 0.8692736291024047, accuracy: 92.06396209653539\n"
     ]
    },
    {
     "name": "stderr",
     "output_type": "stream",
     "text": [
      "\n"
     ]
    }
   ],
   "source": [
    "# Use Adam optimizer\n",
    "learning_rate = 0.5e-3\n",
    "optimizer = optim.Adam(net.parameters(), lr=learning_rate)\n",
    "criterion = nn.NLLLoss()\n",
    "EPOCHS = 100\n",
    "train_loader = trainloader_filter\n",
    "dev_loader = devloader_filter\n",
    "pred_new = []\n",
    "labels_new = []\n",
    "training_losses_new = []\n",
    "mean_losses_new = []\n",
    "val_losses_new = []\n",
    "accuracies_new = []\n",
    "epochs_no_improve = 0\n",
    "n_epochs_stop = 10 \n",
    "patience = 0\n",
    "min_val_loss = 1e-2\n",
    "early_stop = False\n",
    "best_val_acc = 0.0\n",
    "for epoch in range(EPOCHS):\n",
    "    training_loss, mean_loss = train_noise(net, DEVICE, train_loader, optimizer, snr_list=np.array([60,61]))\n",
    "    val_loss, accuracy, prediction, label = test_noise(net, DEVICE, dev_loader, snr_list=[39,39.5,40])\n",
    "    labels_new.append(label)\n",
    "    pred_new.append(prediction)\n",
    "    training_losses_new += training_loss\n",
    "    mean_losses_new.append(mean_loss)\n",
    "    val_losses_new.append(val_loss)\n",
    "    accuracies_new.append(accuracy)\n",
    "    print(f\"epoch: {epoch}, mean_loss: {mean_loss}, dev_loss: {val_loss}, accuracy: {accuracy}\", flush=True)\n",
    "#     if (epoch+1) % 20 == 0:\n",
    "#         learning_rate *= 0.8\n",
    "#         optimizer = optim.Adam(net.parameters(), lr=learning_rate)\n",
    "    if accuracy <= best_val_acc:\n",
    "        epochs_no_improve += 1\n",
    "        # Check early stopping condition\n",
    "        if epochs_no_improve == n_epochs_stop:\n",
    "            learning_rate *= 0.5\n",
    "            optimizer = optim.Adam(net.parameters(), lr=learning_rate)\n",
    "            patience += 1\n",
    "            print('patience:', patience, 'learning rate:', learning_rate)\n",
    "            if patience == 3:\n",
    "                print('Stop Training!' )\n",
    "                break\n",
    "            else:\n",
    "                continue\n",
    "        else:\n",
    "            continue\n",
    "        break \n",
    "    else:\n",
    "        best_val_acc = accuracy\n",
    "        epochs_no_improve = 0\n"
   ]
  },
  {
   "cell_type": "code",
   "execution_count": 348,
   "metadata": {},
   "outputs": [],
   "source": [
    "save_model = True\n",
    "\n",
    "if save_model:\n",
    "    PATH = '/home/weipengz/'\n",
    "    model_name = 'snr6061_39x_ctrnn.pt'\n",
    "    torch.save(net.state_dict(), pjoin(PATH, model_name))"
   ]
  },
  {
   "cell_type": "code",
   "execution_count": 119,
   "metadata": {},
   "outputs": [
    {
     "name": "stderr",
     "output_type": "stream",
     "text": [
      "100%|██████████| 33/33 [00:08<00:00,  3.85it/s]"
     ]
    },
    {
     "name": "stdout",
     "output_type": "stream",
     "text": [
      "accuracy: 90.85662211421628 0.9308002849685465\n"
     ]
    },
    {
     "name": "stderr",
     "output_type": "stream",
     "text": [
      "\n"
     ]
    }
   ],
   "source": [
    "loaded = True\n",
    "DEVICE = torch.device(\"cpu\")\n",
    "PATH = '/home/weipengz/'\n",
    "# model_name = 'WM_photonic_ctrnn_7device_2CNN_1FC_len=32_neuron16_noise.pt' #_aplha01, none\n",
    "model_name = 'snr40_ctrnn.pt'   \n",
    "if loaded:\n",
    "    net_test = RNNNet(input_size=64, hidden_size=16, dt=5).to(DEVICE)\n",
    "    net_test.load_state_dict(torch.load(pjoin(PATH, model_name)))\n",
    "test_loader = testloader_filter\n",
    "# net_test.readout = False\n",
    "val_loss, accuracy, prediction, label = test_noise(net_test, DEVICE, test_loader, snr_list=[30])\n",
    "print('accuracy:', accuracy, val_loss)\n"
   ]
  },
  {
   "cell_type": "code",
   "execution_count": null,
   "metadata": {},
   "outputs": [],
   "source": []
  }
 ],
 "metadata": {
  "kernelspec": {
   "display_name": "Python 3",
   "language": "python",
   "name": "python3"
  },
  "language_info": {
   "codemirror_mode": {
    "name": "ipython",
    "version": 3
   },
   "file_extension": ".py",
   "mimetype": "text/x-python",
   "name": "python",
   "nbconvert_exporter": "python",
   "pygments_lexer": "ipython3",
   "version": "3.6.8"
  },
  "vscode": {
   "interpreter": {
    "hash": "364bf80ec3357c517417e509b77beb380f93a8befd191d00c444bb4eef120f90"
   }
  }
 },
 "nbformat": 4,
 "nbformat_minor": 4
}
